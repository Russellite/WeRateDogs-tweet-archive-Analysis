{
 "cells": [
  {
   "cell_type": "markdown",
   "id": "2e59105b",
   "metadata": {},
   "source": [
    "# Project: Wrangle and Analyze Data (WeRateDogs tweet archive)\n",
    "\n",
    "## Table of Contents\n",
    "<ul>\n",
    "<li><a href=\"#intro\">Introduction</a></li>\n",
    "<li><a href=\"#gathering\">Gathering data</a></li>\n",
    "<li><a href=\"#accessing\">Assessing Data</a></li>\n",
    "<li><a href=\"#cleaning\">Cleaning Data</a></li>\n",
    "<li><a href=\"#storing\">Storing Data</a></li>\n",
    "<li><a href=\"#visualizing\">Analyzing, and Visualizing Data</a></li>\n",
    "<li><a href=\"#reporting\">Reporting</a>\n",
    "    <ul>\n",
    "       <li><a href=\"#reporting-data\">Data wrangling</a></li>\n",
    "        <li><a href=\"#reporting-visuals\">Data analyses and Visualizations</a></li>\n",
    "    </ul>\n",
    "    </li>\n",
    "</ul>\n"
   ]
  },
  {
   "cell_type": "markdown",
   "id": "4b05660f",
   "metadata": {},
   "source": [
    "<a id='intro'></a>\n",
    "## Introduction\n",
    "\n",
    "The dataset that I will will be wrangling (and analyzing and visualizing) is the tweet archive of Twitter user @dog_rates, also known as WeRateDogs. WeRateDogs is a Twitter account that rates people's dogs with a humorous comment about the dog. The WeRateDogs archive contains basic tweet data for all 5000+ tweets, but not everything.\n",
    "\n",
    "I will be using Python and its libraries, to gather data from a variety of sources and access and clean it from tidiness and quality issues. and also, use said tools to showcase my wrangling efforts through analysis and visualizations."
   ]
  },
  {
   "cell_type": "markdown",
   "id": "5f2b2a34",
   "metadata": {},
   "source": [
    "### Importing the necessary libraries to be used for the analysis"
   ]
  },
  {
   "cell_type": "code",
   "execution_count": 342,
   "id": "a41a4858",
   "metadata": {},
   "outputs": [],
   "source": [
    "# importing the necessary libraries\n",
    "import pandas as pd\n",
    "import numpy as np\n",
    "#import tweepy as tp\n",
    "import requests\n",
    "import json\n",
    "import os\n",
    "import matplotlib.pyplot as plt\n",
    "import seaborn as sns\n",
    "%matplotlib inline"
   ]
  },
  {
   "cell_type": "markdown",
   "id": "1a463799",
   "metadata": {},
   "source": [
    "<a id='gathering'></a>\n",
    "## Gathering Data"
   ]
  },
  {
   "cell_type": "markdown",
   "id": "2ebdae6c",
   "metadata": {},
   "source": [
    "First we load the `twitter_archive_enhanced.csv` that has been given us"
   ]
  },
  {
   "cell_type": "code",
   "execution_count": 343,
   "id": "58bc1e89",
   "metadata": {
    "scrolled": true
   },
   "outputs": [
    {
     "data": {
      "text/html": [
       "<div>\n",
       "<style scoped>\n",
       "    .dataframe tbody tr th:only-of-type {\n",
       "        vertical-align: middle;\n",
       "    }\n",
       "\n",
       "    .dataframe tbody tr th {\n",
       "        vertical-align: top;\n",
       "    }\n",
       "\n",
       "    .dataframe thead th {\n",
       "        text-align: right;\n",
       "    }\n",
       "</style>\n",
       "<table border=\"1\" class=\"dataframe\">\n",
       "  <thead>\n",
       "    <tr style=\"text-align: right;\">\n",
       "      <th></th>\n",
       "      <th>tweet_id</th>\n",
       "      <th>in_reply_to_status_id</th>\n",
       "      <th>in_reply_to_user_id</th>\n",
       "      <th>timestamp</th>\n",
       "      <th>source</th>\n",
       "      <th>text</th>\n",
       "      <th>retweeted_status_id</th>\n",
       "      <th>retweeted_status_user_id</th>\n",
       "      <th>retweeted_status_timestamp</th>\n",
       "      <th>expanded_urls</th>\n",
       "      <th>rating_numerator</th>\n",
       "      <th>rating_denominator</th>\n",
       "      <th>name</th>\n",
       "      <th>doggo</th>\n",
       "      <th>floofer</th>\n",
       "      <th>pupper</th>\n",
       "      <th>puppo</th>\n",
       "    </tr>\n",
       "  </thead>\n",
       "  <tbody>\n",
       "    <tr>\n",
       "      <th>0</th>\n",
       "      <td>892420643555336193</td>\n",
       "      <td>NaN</td>\n",
       "      <td>NaN</td>\n",
       "      <td>2017-08-01 16:23:56 +0000</td>\n",
       "      <td>&lt;a href=\"http://twitter.com/download/iphone\" r...</td>\n",
       "      <td>This is Phineas. He's a mystical boy. Only eve...</td>\n",
       "      <td>NaN</td>\n",
       "      <td>NaN</td>\n",
       "      <td>NaN</td>\n",
       "      <td>https://twitter.com/dog_rates/status/892420643...</td>\n",
       "      <td>13</td>\n",
       "      <td>10</td>\n",
       "      <td>Phineas</td>\n",
       "      <td>None</td>\n",
       "      <td>None</td>\n",
       "      <td>None</td>\n",
       "      <td>None</td>\n",
       "    </tr>\n",
       "    <tr>\n",
       "      <th>1</th>\n",
       "      <td>892177421306343426</td>\n",
       "      <td>NaN</td>\n",
       "      <td>NaN</td>\n",
       "      <td>2017-08-01 00:17:27 +0000</td>\n",
       "      <td>&lt;a href=\"http://twitter.com/download/iphone\" r...</td>\n",
       "      <td>This is Tilly. She's just checking pup on you....</td>\n",
       "      <td>NaN</td>\n",
       "      <td>NaN</td>\n",
       "      <td>NaN</td>\n",
       "      <td>https://twitter.com/dog_rates/status/892177421...</td>\n",
       "      <td>13</td>\n",
       "      <td>10</td>\n",
       "      <td>Tilly</td>\n",
       "      <td>None</td>\n",
       "      <td>None</td>\n",
       "      <td>None</td>\n",
       "      <td>None</td>\n",
       "    </tr>\n",
       "    <tr>\n",
       "      <th>2</th>\n",
       "      <td>891815181378084864</td>\n",
       "      <td>NaN</td>\n",
       "      <td>NaN</td>\n",
       "      <td>2017-07-31 00:18:03 +0000</td>\n",
       "      <td>&lt;a href=\"http://twitter.com/download/iphone\" r...</td>\n",
       "      <td>This is Archie. He is a rare Norwegian Pouncin...</td>\n",
       "      <td>NaN</td>\n",
       "      <td>NaN</td>\n",
       "      <td>NaN</td>\n",
       "      <td>https://twitter.com/dog_rates/status/891815181...</td>\n",
       "      <td>12</td>\n",
       "      <td>10</td>\n",
       "      <td>Archie</td>\n",
       "      <td>None</td>\n",
       "      <td>None</td>\n",
       "      <td>None</td>\n",
       "      <td>None</td>\n",
       "    </tr>\n",
       "    <tr>\n",
       "      <th>3</th>\n",
       "      <td>891689557279858688</td>\n",
       "      <td>NaN</td>\n",
       "      <td>NaN</td>\n",
       "      <td>2017-07-30 15:58:51 +0000</td>\n",
       "      <td>&lt;a href=\"http://twitter.com/download/iphone\" r...</td>\n",
       "      <td>This is Darla. She commenced a snooze mid meal...</td>\n",
       "      <td>NaN</td>\n",
       "      <td>NaN</td>\n",
       "      <td>NaN</td>\n",
       "      <td>https://twitter.com/dog_rates/status/891689557...</td>\n",
       "      <td>13</td>\n",
       "      <td>10</td>\n",
       "      <td>Darla</td>\n",
       "      <td>None</td>\n",
       "      <td>None</td>\n",
       "      <td>None</td>\n",
       "      <td>None</td>\n",
       "    </tr>\n",
       "    <tr>\n",
       "      <th>4</th>\n",
       "      <td>891327558926688256</td>\n",
       "      <td>NaN</td>\n",
       "      <td>NaN</td>\n",
       "      <td>2017-07-29 16:00:24 +0000</td>\n",
       "      <td>&lt;a href=\"http://twitter.com/download/iphone\" r...</td>\n",
       "      <td>This is Franklin. He would like you to stop ca...</td>\n",
       "      <td>NaN</td>\n",
       "      <td>NaN</td>\n",
       "      <td>NaN</td>\n",
       "      <td>https://twitter.com/dog_rates/status/891327558...</td>\n",
       "      <td>12</td>\n",
       "      <td>10</td>\n",
       "      <td>Franklin</td>\n",
       "      <td>None</td>\n",
       "      <td>None</td>\n",
       "      <td>None</td>\n",
       "      <td>None</td>\n",
       "    </tr>\n",
       "  </tbody>\n",
       "</table>\n",
       "</div>"
      ],
      "text/plain": [
       "             tweet_id  in_reply_to_status_id  in_reply_to_user_id  \\\n",
       "0  892420643555336193                    NaN                  NaN   \n",
       "1  892177421306343426                    NaN                  NaN   \n",
       "2  891815181378084864                    NaN                  NaN   \n",
       "3  891689557279858688                    NaN                  NaN   \n",
       "4  891327558926688256                    NaN                  NaN   \n",
       "\n",
       "                   timestamp  \\\n",
       "0  2017-08-01 16:23:56 +0000   \n",
       "1  2017-08-01 00:17:27 +0000   \n",
       "2  2017-07-31 00:18:03 +0000   \n",
       "3  2017-07-30 15:58:51 +0000   \n",
       "4  2017-07-29 16:00:24 +0000   \n",
       "\n",
       "                                              source  \\\n",
       "0  <a href=\"http://twitter.com/download/iphone\" r...   \n",
       "1  <a href=\"http://twitter.com/download/iphone\" r...   \n",
       "2  <a href=\"http://twitter.com/download/iphone\" r...   \n",
       "3  <a href=\"http://twitter.com/download/iphone\" r...   \n",
       "4  <a href=\"http://twitter.com/download/iphone\" r...   \n",
       "\n",
       "                                                text  retweeted_status_id  \\\n",
       "0  This is Phineas. He's a mystical boy. Only eve...                  NaN   \n",
       "1  This is Tilly. She's just checking pup on you....                  NaN   \n",
       "2  This is Archie. He is a rare Norwegian Pouncin...                  NaN   \n",
       "3  This is Darla. She commenced a snooze mid meal...                  NaN   \n",
       "4  This is Franklin. He would like you to stop ca...                  NaN   \n",
       "\n",
       "   retweeted_status_user_id retweeted_status_timestamp  \\\n",
       "0                       NaN                        NaN   \n",
       "1                       NaN                        NaN   \n",
       "2                       NaN                        NaN   \n",
       "3                       NaN                        NaN   \n",
       "4                       NaN                        NaN   \n",
       "\n",
       "                                       expanded_urls  rating_numerator  \\\n",
       "0  https://twitter.com/dog_rates/status/892420643...                13   \n",
       "1  https://twitter.com/dog_rates/status/892177421...                13   \n",
       "2  https://twitter.com/dog_rates/status/891815181...                12   \n",
       "3  https://twitter.com/dog_rates/status/891689557...                13   \n",
       "4  https://twitter.com/dog_rates/status/891327558...                12   \n",
       "\n",
       "   rating_denominator      name doggo floofer pupper puppo  \n",
       "0                  10   Phineas  None    None   None  None  \n",
       "1                  10     Tilly  None    None   None  None  \n",
       "2                  10    Archie  None    None   None  None  \n",
       "3                  10     Darla  None    None   None  None  \n",
       "4                  10  Franklin  None    None   None  None  "
      ]
     },
     "execution_count": 343,
     "metadata": {},
     "output_type": "execute_result"
    }
   ],
   "source": [
    "# load the dataset\n",
    "twitter_archive = pd.read_csv(\"twitter_archive_enhanced.csv\")\n",
    "twitter_archive.head()"
   ]
  },
  {
   "cell_type": "markdown",
   "id": "61e7a8b2",
   "metadata": {},
   "source": [
    "For the second dataset, we have been given a `url`to the file, we will save the file as `image_predictions.tsv`"
   ]
  },
  {
   "cell_type": "code",
   "execution_count": 344,
   "id": "5ddfc904",
   "metadata": {},
   "outputs": [],
   "source": [
    "# The url for the file\n",
    "url = \"https://d17h27t6h515a5.cloudfront.net/topher/2017/August/599fd2ad_image-predictions/image-predictions.tsv\"\n",
    "#The file name\n",
    "file_name = \"image_predictions.tsv\"\n",
    "\n",
    "#We create the file and write to it\n",
    "if not os.path.isfile(file_name):\n",
    "    with open(file_name, \"wb\") as file_obj:\n",
    "        response = requests.get(url)\n",
    "        file_obj.write(response.content)"
   ]
  },
  {
   "cell_type": "markdown",
   "id": "ded174e4",
   "metadata": {},
   "source": [
    "We now load the `image_predictions.tsv`"
   ]
  },
  {
   "cell_type": "code",
   "execution_count": 345,
   "id": "4d4e7dca",
   "metadata": {},
   "outputs": [
    {
     "data": {
      "text/html": [
       "<div>\n",
       "<style scoped>\n",
       "    .dataframe tbody tr th:only-of-type {\n",
       "        vertical-align: middle;\n",
       "    }\n",
       "\n",
       "    .dataframe tbody tr th {\n",
       "        vertical-align: top;\n",
       "    }\n",
       "\n",
       "    .dataframe thead th {\n",
       "        text-align: right;\n",
       "    }\n",
       "</style>\n",
       "<table border=\"1\" class=\"dataframe\">\n",
       "  <thead>\n",
       "    <tr style=\"text-align: right;\">\n",
       "      <th></th>\n",
       "      <th>tweet_id</th>\n",
       "      <th>jpg_url</th>\n",
       "      <th>img_num</th>\n",
       "      <th>p1</th>\n",
       "      <th>p1_conf</th>\n",
       "      <th>p1_dog</th>\n",
       "      <th>p2</th>\n",
       "      <th>p2_conf</th>\n",
       "      <th>p2_dog</th>\n",
       "      <th>p3</th>\n",
       "      <th>p3_conf</th>\n",
       "      <th>p3_dog</th>\n",
       "    </tr>\n",
       "  </thead>\n",
       "  <tbody>\n",
       "    <tr>\n",
       "      <th>0</th>\n",
       "      <td>666020888022790149</td>\n",
       "      <td>https://pbs.twimg.com/media/CT4udn0WwAA0aMy.jpg</td>\n",
       "      <td>1</td>\n",
       "      <td>Welsh_springer_spaniel</td>\n",
       "      <td>0.465074</td>\n",
       "      <td>True</td>\n",
       "      <td>collie</td>\n",
       "      <td>0.156665</td>\n",
       "      <td>True</td>\n",
       "      <td>Shetland_sheepdog</td>\n",
       "      <td>0.061428</td>\n",
       "      <td>True</td>\n",
       "    </tr>\n",
       "    <tr>\n",
       "      <th>1</th>\n",
       "      <td>666029285002620928</td>\n",
       "      <td>https://pbs.twimg.com/media/CT42GRgUYAA5iDo.jpg</td>\n",
       "      <td>1</td>\n",
       "      <td>redbone</td>\n",
       "      <td>0.506826</td>\n",
       "      <td>True</td>\n",
       "      <td>miniature_pinscher</td>\n",
       "      <td>0.074192</td>\n",
       "      <td>True</td>\n",
       "      <td>Rhodesian_ridgeback</td>\n",
       "      <td>0.072010</td>\n",
       "      <td>True</td>\n",
       "    </tr>\n",
       "    <tr>\n",
       "      <th>2</th>\n",
       "      <td>666033412701032449</td>\n",
       "      <td>https://pbs.twimg.com/media/CT4521TWwAEvMyu.jpg</td>\n",
       "      <td>1</td>\n",
       "      <td>German_shepherd</td>\n",
       "      <td>0.596461</td>\n",
       "      <td>True</td>\n",
       "      <td>malinois</td>\n",
       "      <td>0.138584</td>\n",
       "      <td>True</td>\n",
       "      <td>bloodhound</td>\n",
       "      <td>0.116197</td>\n",
       "      <td>True</td>\n",
       "    </tr>\n",
       "    <tr>\n",
       "      <th>3</th>\n",
       "      <td>666044226329800704</td>\n",
       "      <td>https://pbs.twimg.com/media/CT5Dr8HUEAA-lEu.jpg</td>\n",
       "      <td>1</td>\n",
       "      <td>Rhodesian_ridgeback</td>\n",
       "      <td>0.408143</td>\n",
       "      <td>True</td>\n",
       "      <td>redbone</td>\n",
       "      <td>0.360687</td>\n",
       "      <td>True</td>\n",
       "      <td>miniature_pinscher</td>\n",
       "      <td>0.222752</td>\n",
       "      <td>True</td>\n",
       "    </tr>\n",
       "    <tr>\n",
       "      <th>4</th>\n",
       "      <td>666049248165822465</td>\n",
       "      <td>https://pbs.twimg.com/media/CT5IQmsXIAAKY4A.jpg</td>\n",
       "      <td>1</td>\n",
       "      <td>miniature_pinscher</td>\n",
       "      <td>0.560311</td>\n",
       "      <td>True</td>\n",
       "      <td>Rottweiler</td>\n",
       "      <td>0.243682</td>\n",
       "      <td>True</td>\n",
       "      <td>Doberman</td>\n",
       "      <td>0.154629</td>\n",
       "      <td>True</td>\n",
       "    </tr>\n",
       "  </tbody>\n",
       "</table>\n",
       "</div>"
      ],
      "text/plain": [
       "             tweet_id                                          jpg_url  \\\n",
       "0  666020888022790149  https://pbs.twimg.com/media/CT4udn0WwAA0aMy.jpg   \n",
       "1  666029285002620928  https://pbs.twimg.com/media/CT42GRgUYAA5iDo.jpg   \n",
       "2  666033412701032449  https://pbs.twimg.com/media/CT4521TWwAEvMyu.jpg   \n",
       "3  666044226329800704  https://pbs.twimg.com/media/CT5Dr8HUEAA-lEu.jpg   \n",
       "4  666049248165822465  https://pbs.twimg.com/media/CT5IQmsXIAAKY4A.jpg   \n",
       "\n",
       "   img_num                      p1   p1_conf  p1_dog                  p2  \\\n",
       "0        1  Welsh_springer_spaniel  0.465074    True              collie   \n",
       "1        1                 redbone  0.506826    True  miniature_pinscher   \n",
       "2        1         German_shepherd  0.596461    True            malinois   \n",
       "3        1     Rhodesian_ridgeback  0.408143    True             redbone   \n",
       "4        1      miniature_pinscher  0.560311    True          Rottweiler   \n",
       "\n",
       "    p2_conf  p2_dog                   p3   p3_conf  p3_dog  \n",
       "0  0.156665    True    Shetland_sheepdog  0.061428    True  \n",
       "1  0.074192    True  Rhodesian_ridgeback  0.072010    True  \n",
       "2  0.138584    True           bloodhound  0.116197    True  \n",
       "3  0.360687    True   miniature_pinscher  0.222752    True  \n",
       "4  0.243682    True             Doberman  0.154629    True  "
      ]
     },
     "execution_count": 345,
     "metadata": {},
     "output_type": "execute_result"
    }
   ],
   "source": [
    "# load the file\n",
    "image_pred = pd.read_csv(\"image_predictions.tsv\", delimiter=\"\\t\")\n",
    "image_pred.head()"
   ]
  },
  {
   "cell_type": "markdown",
   "id": "486174ac",
   "metadata": {},
   "source": [
    "For the third dataset, we have to use Twitter API to get the `favorite` and `retweet` counts from the WeRateDogs Twitter account. "
   ]
  },
  {
   "cell_type": "code",
   "execution_count": 346,
   "id": "f4772c66",
   "metadata": {},
   "outputs": [],
   "source": [
    "# # Initializing the necessary variables\n",
    "# consumer_key = \"\"\n",
    "# consumer_secret = \"\"\n",
    "# access_token = \"\"\n",
    "# access_secret = \"\"\n",
    "# # Tokens are removed for security purpose\n",
    "\n",
    "# # Initiating the tweepy object\n",
    "# auth = tweepy.OAuthHandler(consumer_key, consumer_secret)\n",
    "# auth.set_access_token(access_token, access_secret)\n",
    "\n",
    "# # Making the API ready to query\n",
    "# api = tweepy.API(auth, wait_on_rate_limit=True)"
   ]
  },
  {
   "cell_type": "markdown",
   "id": "69cb4ba6",
   "metadata": {},
   "source": [
    "I will create function to help with querying twitter data"
   ]
  },
  {
   "cell_type": "code",
   "execution_count": 347,
   "id": "8456e1a8",
   "metadata": {},
   "outputs": [],
   "source": [
    "# set a function to query twitter API\n",
    "def query_twitter(tweet_id):\n",
    "    count = 0\n",
    "    fails_dict = {}\n",
    "    start = timer()\n",
    "    with open('tweet_json.txt', 'w') as outfile:\n",
    "        for tweet_id in tweet_ids:\n",
    "            count += 1\n",
    "            print(str(count) + \": \" + str(tweet_id))\n",
    "            try:\n",
    "                tweet = api.get_status(tweet_id, tweet_mode='extended')\n",
    "                print(\"Success\")\n",
    "                json.dump(tweet._json, outfile)\n",
    "                outfile.write('\\n')\n",
    "            except tweepy.TweepError as e:\n",
    "                print(\"Fail\")\n",
    "                fails_dict[tweet_id] = e\n",
    "                pass\n",
    "    end = timer()\n",
    "    print(end - start)\n",
    "    print(fails_dict)"
   ]
  },
  {
   "cell_type": "markdown",
   "id": "6c12bfc2",
   "metadata": {},
   "source": [
    "I can call the above function using the `tweet_id` column of `twitter_archive` dataset"
   ]
  },
  {
   "cell_type": "code",
   "execution_count": 348,
   "id": "e6ab3784",
   "metadata": {},
   "outputs": [],
   "source": [
    "# calling the function\n",
    "# query_twitter(twitter_archive.twitter_archive)"
   ]
  },
  {
   "cell_type": "markdown",
   "id": "eb32c1fa",
   "metadata": {},
   "source": [
    "Unfortunately, I  was not granted developer privilege by Twitter. Hence, I will be making use of the `tweet_json.txt` file provided."
   ]
  },
  {
   "cell_type": "markdown",
   "id": "d20cda09",
   "metadata": {},
   "source": [
    "We will open the file and read it line by line, using the information in the data to create a list of dictionaries, which we will use to create dataframe."
   ]
  },
  {
   "cell_type": "code",
   "execution_count": 349,
   "id": "7f9c06fe",
   "metadata": {},
   "outputs": [],
   "source": [
    "df_list = []\n",
    "\n",
    "with open(\"tweet_json.txt\", \"r\") as file:\n",
    "    for line in file:\n",
    "        data = json.loads(line)\n",
    "        id_str = data.get(\"id_str\")\n",
    "        favorite_count = data.get(\"favorite_count\")\n",
    "        retweet_count = data.get(\"retweet_count\")\n",
    "        \n",
    "        df_list.append({\"tweet_id\": id_str,\n",
    "                          \"favorite_count\": favorite_count,\n",
    "                          \"retweet_count\": retweet_count})\n",
    "        \n",
    "retweet_favorite_count = pd.DataFrame(df_list)\n",
    "        "
   ]
  },
  {
   "cell_type": "code",
   "execution_count": 350,
   "id": "9d9b1cd1",
   "metadata": {},
   "outputs": [
    {
     "name": "stdout",
     "output_type": "stream",
     "text": [
      "<class 'pandas.core.frame.DataFrame'>\n",
      "RangeIndex: 2354 entries, 0 to 2353\n",
      "Data columns (total 3 columns):\n",
      " #   Column          Non-Null Count  Dtype \n",
      "---  ------          --------------  ----- \n",
      " 0   tweet_id        2354 non-null   object\n",
      " 1   favorite_count  2354 non-null   int64 \n",
      " 2   retweet_count   2354 non-null   int64 \n",
      "dtypes: int64(2), object(1)\n",
      "memory usage: 55.3+ KB\n"
     ]
    }
   ],
   "source": [
    "retweet_favorite_count.info()"
   ]
  },
  {
   "cell_type": "markdown",
   "id": "6094e41d",
   "metadata": {},
   "source": [
    "<a id='accessing'></a>\n",
    "## Assessing Data"
   ]
  },
  {
   "cell_type": "markdown",
   "id": "df246857",
   "metadata": {},
   "source": [
    "In this stage of the data wrangling process, we will aquaint ourselves with the datasets. We will check the datasets for quality and tidiness issues, using both visual and programmatic assessments."
   ]
  },
  {
   "cell_type": "markdown",
   "id": "5371e74a",
   "metadata": {},
   "source": [
    "### Visual Assessment"
   ]
  },
  {
   "cell_type": "markdown",
   "id": "94ba52a2",
   "metadata": {},
   "source": [
    "Assessing the dataset visually"
   ]
  },
  {
   "cell_type": "code",
   "execution_count": 351,
   "id": "1288b213",
   "metadata": {},
   "outputs": [
    {
     "data": {
      "text/html": [
       "<div>\n",
       "<style scoped>\n",
       "    .dataframe tbody tr th:only-of-type {\n",
       "        vertical-align: middle;\n",
       "    }\n",
       "\n",
       "    .dataframe tbody tr th {\n",
       "        vertical-align: top;\n",
       "    }\n",
       "\n",
       "    .dataframe thead th {\n",
       "        text-align: right;\n",
       "    }\n",
       "</style>\n",
       "<table border=\"1\" class=\"dataframe\">\n",
       "  <thead>\n",
       "    <tr style=\"text-align: right;\">\n",
       "      <th></th>\n",
       "      <th>tweet_id</th>\n",
       "      <th>in_reply_to_status_id</th>\n",
       "      <th>in_reply_to_user_id</th>\n",
       "      <th>timestamp</th>\n",
       "      <th>source</th>\n",
       "      <th>text</th>\n",
       "      <th>retweeted_status_id</th>\n",
       "      <th>retweeted_status_user_id</th>\n",
       "      <th>retweeted_status_timestamp</th>\n",
       "      <th>expanded_urls</th>\n",
       "      <th>rating_numerator</th>\n",
       "      <th>rating_denominator</th>\n",
       "      <th>name</th>\n",
       "      <th>doggo</th>\n",
       "      <th>floofer</th>\n",
       "      <th>pupper</th>\n",
       "      <th>puppo</th>\n",
       "    </tr>\n",
       "  </thead>\n",
       "  <tbody>\n",
       "    <tr>\n",
       "      <th>0</th>\n",
       "      <td>892420643555336193</td>\n",
       "      <td>NaN</td>\n",
       "      <td>NaN</td>\n",
       "      <td>2017-08-01 16:23:56 +0000</td>\n",
       "      <td>&lt;a href=\"http://twitter.com/download/iphone\" r...</td>\n",
       "      <td>This is Phineas. He's a mystical boy. Only eve...</td>\n",
       "      <td>NaN</td>\n",
       "      <td>NaN</td>\n",
       "      <td>NaN</td>\n",
       "      <td>https://twitter.com/dog_rates/status/892420643...</td>\n",
       "      <td>13</td>\n",
       "      <td>10</td>\n",
       "      <td>Phineas</td>\n",
       "      <td>None</td>\n",
       "      <td>None</td>\n",
       "      <td>None</td>\n",
       "      <td>None</td>\n",
       "    </tr>\n",
       "    <tr>\n",
       "      <th>1</th>\n",
       "      <td>892177421306343426</td>\n",
       "      <td>NaN</td>\n",
       "      <td>NaN</td>\n",
       "      <td>2017-08-01 00:17:27 +0000</td>\n",
       "      <td>&lt;a href=\"http://twitter.com/download/iphone\" r...</td>\n",
       "      <td>This is Tilly. She's just checking pup on you....</td>\n",
       "      <td>NaN</td>\n",
       "      <td>NaN</td>\n",
       "      <td>NaN</td>\n",
       "      <td>https://twitter.com/dog_rates/status/892177421...</td>\n",
       "      <td>13</td>\n",
       "      <td>10</td>\n",
       "      <td>Tilly</td>\n",
       "      <td>None</td>\n",
       "      <td>None</td>\n",
       "      <td>None</td>\n",
       "      <td>None</td>\n",
       "    </tr>\n",
       "    <tr>\n",
       "      <th>2</th>\n",
       "      <td>891815181378084864</td>\n",
       "      <td>NaN</td>\n",
       "      <td>NaN</td>\n",
       "      <td>2017-07-31 00:18:03 +0000</td>\n",
       "      <td>&lt;a href=\"http://twitter.com/download/iphone\" r...</td>\n",
       "      <td>This is Archie. He is a rare Norwegian Pouncin...</td>\n",
       "      <td>NaN</td>\n",
       "      <td>NaN</td>\n",
       "      <td>NaN</td>\n",
       "      <td>https://twitter.com/dog_rates/status/891815181...</td>\n",
       "      <td>12</td>\n",
       "      <td>10</td>\n",
       "      <td>Archie</td>\n",
       "      <td>None</td>\n",
       "      <td>None</td>\n",
       "      <td>None</td>\n",
       "      <td>None</td>\n",
       "    </tr>\n",
       "    <tr>\n",
       "      <th>3</th>\n",
       "      <td>891689557279858688</td>\n",
       "      <td>NaN</td>\n",
       "      <td>NaN</td>\n",
       "      <td>2017-07-30 15:58:51 +0000</td>\n",
       "      <td>&lt;a href=\"http://twitter.com/download/iphone\" r...</td>\n",
       "      <td>This is Darla. She commenced a snooze mid meal...</td>\n",
       "      <td>NaN</td>\n",
       "      <td>NaN</td>\n",
       "      <td>NaN</td>\n",
       "      <td>https://twitter.com/dog_rates/status/891689557...</td>\n",
       "      <td>13</td>\n",
       "      <td>10</td>\n",
       "      <td>Darla</td>\n",
       "      <td>None</td>\n",
       "      <td>None</td>\n",
       "      <td>None</td>\n",
       "      <td>None</td>\n",
       "    </tr>\n",
       "    <tr>\n",
       "      <th>4</th>\n",
       "      <td>891327558926688256</td>\n",
       "      <td>NaN</td>\n",
       "      <td>NaN</td>\n",
       "      <td>2017-07-29 16:00:24 +0000</td>\n",
       "      <td>&lt;a href=\"http://twitter.com/download/iphone\" r...</td>\n",
       "      <td>This is Franklin. He would like you to stop ca...</td>\n",
       "      <td>NaN</td>\n",
       "      <td>NaN</td>\n",
       "      <td>NaN</td>\n",
       "      <td>https://twitter.com/dog_rates/status/891327558...</td>\n",
       "      <td>12</td>\n",
       "      <td>10</td>\n",
       "      <td>Franklin</td>\n",
       "      <td>None</td>\n",
       "      <td>None</td>\n",
       "      <td>None</td>\n",
       "      <td>None</td>\n",
       "    </tr>\n",
       "    <tr>\n",
       "      <th>...</th>\n",
       "      <td>...</td>\n",
       "      <td>...</td>\n",
       "      <td>...</td>\n",
       "      <td>...</td>\n",
       "      <td>...</td>\n",
       "      <td>...</td>\n",
       "      <td>...</td>\n",
       "      <td>...</td>\n",
       "      <td>...</td>\n",
       "      <td>...</td>\n",
       "      <td>...</td>\n",
       "      <td>...</td>\n",
       "      <td>...</td>\n",
       "      <td>...</td>\n",
       "      <td>...</td>\n",
       "      <td>...</td>\n",
       "      <td>...</td>\n",
       "    </tr>\n",
       "    <tr>\n",
       "      <th>2351</th>\n",
       "      <td>666049248165822465</td>\n",
       "      <td>NaN</td>\n",
       "      <td>NaN</td>\n",
       "      <td>2015-11-16 00:24:50 +0000</td>\n",
       "      <td>&lt;a href=\"http://twitter.com/download/iphone\" r...</td>\n",
       "      <td>Here we have a 1949 1st generation vulpix. Enj...</td>\n",
       "      <td>NaN</td>\n",
       "      <td>NaN</td>\n",
       "      <td>NaN</td>\n",
       "      <td>https://twitter.com/dog_rates/status/666049248...</td>\n",
       "      <td>5</td>\n",
       "      <td>10</td>\n",
       "      <td>None</td>\n",
       "      <td>None</td>\n",
       "      <td>None</td>\n",
       "      <td>None</td>\n",
       "      <td>None</td>\n",
       "    </tr>\n",
       "    <tr>\n",
       "      <th>2352</th>\n",
       "      <td>666044226329800704</td>\n",
       "      <td>NaN</td>\n",
       "      <td>NaN</td>\n",
       "      <td>2015-11-16 00:04:52 +0000</td>\n",
       "      <td>&lt;a href=\"http://twitter.com/download/iphone\" r...</td>\n",
       "      <td>This is a purebred Piers Morgan. Loves to Netf...</td>\n",
       "      <td>NaN</td>\n",
       "      <td>NaN</td>\n",
       "      <td>NaN</td>\n",
       "      <td>https://twitter.com/dog_rates/status/666044226...</td>\n",
       "      <td>6</td>\n",
       "      <td>10</td>\n",
       "      <td>a</td>\n",
       "      <td>None</td>\n",
       "      <td>None</td>\n",
       "      <td>None</td>\n",
       "      <td>None</td>\n",
       "    </tr>\n",
       "    <tr>\n",
       "      <th>2353</th>\n",
       "      <td>666033412701032449</td>\n",
       "      <td>NaN</td>\n",
       "      <td>NaN</td>\n",
       "      <td>2015-11-15 23:21:54 +0000</td>\n",
       "      <td>&lt;a href=\"http://twitter.com/download/iphone\" r...</td>\n",
       "      <td>Here is a very happy pup. Big fan of well-main...</td>\n",
       "      <td>NaN</td>\n",
       "      <td>NaN</td>\n",
       "      <td>NaN</td>\n",
       "      <td>https://twitter.com/dog_rates/status/666033412...</td>\n",
       "      <td>9</td>\n",
       "      <td>10</td>\n",
       "      <td>a</td>\n",
       "      <td>None</td>\n",
       "      <td>None</td>\n",
       "      <td>None</td>\n",
       "      <td>None</td>\n",
       "    </tr>\n",
       "    <tr>\n",
       "      <th>2354</th>\n",
       "      <td>666029285002620928</td>\n",
       "      <td>NaN</td>\n",
       "      <td>NaN</td>\n",
       "      <td>2015-11-15 23:05:30 +0000</td>\n",
       "      <td>&lt;a href=\"http://twitter.com/download/iphone\" r...</td>\n",
       "      <td>This is a western brown Mitsubishi terrier. Up...</td>\n",
       "      <td>NaN</td>\n",
       "      <td>NaN</td>\n",
       "      <td>NaN</td>\n",
       "      <td>https://twitter.com/dog_rates/status/666029285...</td>\n",
       "      <td>7</td>\n",
       "      <td>10</td>\n",
       "      <td>a</td>\n",
       "      <td>None</td>\n",
       "      <td>None</td>\n",
       "      <td>None</td>\n",
       "      <td>None</td>\n",
       "    </tr>\n",
       "    <tr>\n",
       "      <th>2355</th>\n",
       "      <td>666020888022790149</td>\n",
       "      <td>NaN</td>\n",
       "      <td>NaN</td>\n",
       "      <td>2015-11-15 22:32:08 +0000</td>\n",
       "      <td>&lt;a href=\"http://twitter.com/download/iphone\" r...</td>\n",
       "      <td>Here we have a Japanese Irish Setter. Lost eye...</td>\n",
       "      <td>NaN</td>\n",
       "      <td>NaN</td>\n",
       "      <td>NaN</td>\n",
       "      <td>https://twitter.com/dog_rates/status/666020888...</td>\n",
       "      <td>8</td>\n",
       "      <td>10</td>\n",
       "      <td>None</td>\n",
       "      <td>None</td>\n",
       "      <td>None</td>\n",
       "      <td>None</td>\n",
       "      <td>None</td>\n",
       "    </tr>\n",
       "  </tbody>\n",
       "</table>\n",
       "<p>2356 rows × 17 columns</p>\n",
       "</div>"
      ],
      "text/plain": [
       "                tweet_id  in_reply_to_status_id  in_reply_to_user_id  \\\n",
       "0     892420643555336193                    NaN                  NaN   \n",
       "1     892177421306343426                    NaN                  NaN   \n",
       "2     891815181378084864                    NaN                  NaN   \n",
       "3     891689557279858688                    NaN                  NaN   \n",
       "4     891327558926688256                    NaN                  NaN   \n",
       "...                  ...                    ...                  ...   \n",
       "2351  666049248165822465                    NaN                  NaN   \n",
       "2352  666044226329800704                    NaN                  NaN   \n",
       "2353  666033412701032449                    NaN                  NaN   \n",
       "2354  666029285002620928                    NaN                  NaN   \n",
       "2355  666020888022790149                    NaN                  NaN   \n",
       "\n",
       "                      timestamp  \\\n",
       "0     2017-08-01 16:23:56 +0000   \n",
       "1     2017-08-01 00:17:27 +0000   \n",
       "2     2017-07-31 00:18:03 +0000   \n",
       "3     2017-07-30 15:58:51 +0000   \n",
       "4     2017-07-29 16:00:24 +0000   \n",
       "...                         ...   \n",
       "2351  2015-11-16 00:24:50 +0000   \n",
       "2352  2015-11-16 00:04:52 +0000   \n",
       "2353  2015-11-15 23:21:54 +0000   \n",
       "2354  2015-11-15 23:05:30 +0000   \n",
       "2355  2015-11-15 22:32:08 +0000   \n",
       "\n",
       "                                                 source  \\\n",
       "0     <a href=\"http://twitter.com/download/iphone\" r...   \n",
       "1     <a href=\"http://twitter.com/download/iphone\" r...   \n",
       "2     <a href=\"http://twitter.com/download/iphone\" r...   \n",
       "3     <a href=\"http://twitter.com/download/iphone\" r...   \n",
       "4     <a href=\"http://twitter.com/download/iphone\" r...   \n",
       "...                                                 ...   \n",
       "2351  <a href=\"http://twitter.com/download/iphone\" r...   \n",
       "2352  <a href=\"http://twitter.com/download/iphone\" r...   \n",
       "2353  <a href=\"http://twitter.com/download/iphone\" r...   \n",
       "2354  <a href=\"http://twitter.com/download/iphone\" r...   \n",
       "2355  <a href=\"http://twitter.com/download/iphone\" r...   \n",
       "\n",
       "                                                   text  retweeted_status_id  \\\n",
       "0     This is Phineas. He's a mystical boy. Only eve...                  NaN   \n",
       "1     This is Tilly. She's just checking pup on you....                  NaN   \n",
       "2     This is Archie. He is a rare Norwegian Pouncin...                  NaN   \n",
       "3     This is Darla. She commenced a snooze mid meal...                  NaN   \n",
       "4     This is Franklin. He would like you to stop ca...                  NaN   \n",
       "...                                                 ...                  ...   \n",
       "2351  Here we have a 1949 1st generation vulpix. Enj...                  NaN   \n",
       "2352  This is a purebred Piers Morgan. Loves to Netf...                  NaN   \n",
       "2353  Here is a very happy pup. Big fan of well-main...                  NaN   \n",
       "2354  This is a western brown Mitsubishi terrier. Up...                  NaN   \n",
       "2355  Here we have a Japanese Irish Setter. Lost eye...                  NaN   \n",
       "\n",
       "      retweeted_status_user_id retweeted_status_timestamp  \\\n",
       "0                          NaN                        NaN   \n",
       "1                          NaN                        NaN   \n",
       "2                          NaN                        NaN   \n",
       "3                          NaN                        NaN   \n",
       "4                          NaN                        NaN   \n",
       "...                        ...                        ...   \n",
       "2351                       NaN                        NaN   \n",
       "2352                       NaN                        NaN   \n",
       "2353                       NaN                        NaN   \n",
       "2354                       NaN                        NaN   \n",
       "2355                       NaN                        NaN   \n",
       "\n",
       "                                          expanded_urls  rating_numerator  \\\n",
       "0     https://twitter.com/dog_rates/status/892420643...                13   \n",
       "1     https://twitter.com/dog_rates/status/892177421...                13   \n",
       "2     https://twitter.com/dog_rates/status/891815181...                12   \n",
       "3     https://twitter.com/dog_rates/status/891689557...                13   \n",
       "4     https://twitter.com/dog_rates/status/891327558...                12   \n",
       "...                                                 ...               ...   \n",
       "2351  https://twitter.com/dog_rates/status/666049248...                 5   \n",
       "2352  https://twitter.com/dog_rates/status/666044226...                 6   \n",
       "2353  https://twitter.com/dog_rates/status/666033412...                 9   \n",
       "2354  https://twitter.com/dog_rates/status/666029285...                 7   \n",
       "2355  https://twitter.com/dog_rates/status/666020888...                 8   \n",
       "\n",
       "      rating_denominator      name doggo floofer pupper puppo  \n",
       "0                     10   Phineas  None    None   None  None  \n",
       "1                     10     Tilly  None    None   None  None  \n",
       "2                     10    Archie  None    None   None  None  \n",
       "3                     10     Darla  None    None   None  None  \n",
       "4                     10  Franklin  None    None   None  None  \n",
       "...                  ...       ...   ...     ...    ...   ...  \n",
       "2351                  10      None  None    None   None  None  \n",
       "2352                  10         a  None    None   None  None  \n",
       "2353                  10         a  None    None   None  None  \n",
       "2354                  10         a  None    None   None  None  \n",
       "2355                  10      None  None    None   None  None  \n",
       "\n",
       "[2356 rows x 17 columns]"
      ]
     },
     "execution_count": 351,
     "metadata": {},
     "output_type": "execute_result"
    }
   ],
   "source": [
    "# Display 'twitter_archive' dataset\n",
    "twitter_archive"
   ]
  },
  {
   "cell_type": "code",
   "execution_count": 352,
   "id": "49d2d507",
   "metadata": {},
   "outputs": [
    {
     "data": {
      "text/html": [
       "<div>\n",
       "<style scoped>\n",
       "    .dataframe tbody tr th:only-of-type {\n",
       "        vertical-align: middle;\n",
       "    }\n",
       "\n",
       "    .dataframe tbody tr th {\n",
       "        vertical-align: top;\n",
       "    }\n",
       "\n",
       "    .dataframe thead th {\n",
       "        text-align: right;\n",
       "    }\n",
       "</style>\n",
       "<table border=\"1\" class=\"dataframe\">\n",
       "  <thead>\n",
       "    <tr style=\"text-align: right;\">\n",
       "      <th></th>\n",
       "      <th>tweet_id</th>\n",
       "      <th>jpg_url</th>\n",
       "      <th>img_num</th>\n",
       "      <th>p1</th>\n",
       "      <th>p1_conf</th>\n",
       "      <th>p1_dog</th>\n",
       "      <th>p2</th>\n",
       "      <th>p2_conf</th>\n",
       "      <th>p2_dog</th>\n",
       "      <th>p3</th>\n",
       "      <th>p3_conf</th>\n",
       "      <th>p3_dog</th>\n",
       "    </tr>\n",
       "  </thead>\n",
       "  <tbody>\n",
       "    <tr>\n",
       "      <th>0</th>\n",
       "      <td>666020888022790149</td>\n",
       "      <td>https://pbs.twimg.com/media/CT4udn0WwAA0aMy.jpg</td>\n",
       "      <td>1</td>\n",
       "      <td>Welsh_springer_spaniel</td>\n",
       "      <td>0.465074</td>\n",
       "      <td>True</td>\n",
       "      <td>collie</td>\n",
       "      <td>0.156665</td>\n",
       "      <td>True</td>\n",
       "      <td>Shetland_sheepdog</td>\n",
       "      <td>0.061428</td>\n",
       "      <td>True</td>\n",
       "    </tr>\n",
       "    <tr>\n",
       "      <th>1</th>\n",
       "      <td>666029285002620928</td>\n",
       "      <td>https://pbs.twimg.com/media/CT42GRgUYAA5iDo.jpg</td>\n",
       "      <td>1</td>\n",
       "      <td>redbone</td>\n",
       "      <td>0.506826</td>\n",
       "      <td>True</td>\n",
       "      <td>miniature_pinscher</td>\n",
       "      <td>0.074192</td>\n",
       "      <td>True</td>\n",
       "      <td>Rhodesian_ridgeback</td>\n",
       "      <td>0.072010</td>\n",
       "      <td>True</td>\n",
       "    </tr>\n",
       "    <tr>\n",
       "      <th>2</th>\n",
       "      <td>666033412701032449</td>\n",
       "      <td>https://pbs.twimg.com/media/CT4521TWwAEvMyu.jpg</td>\n",
       "      <td>1</td>\n",
       "      <td>German_shepherd</td>\n",
       "      <td>0.596461</td>\n",
       "      <td>True</td>\n",
       "      <td>malinois</td>\n",
       "      <td>0.138584</td>\n",
       "      <td>True</td>\n",
       "      <td>bloodhound</td>\n",
       "      <td>0.116197</td>\n",
       "      <td>True</td>\n",
       "    </tr>\n",
       "    <tr>\n",
       "      <th>3</th>\n",
       "      <td>666044226329800704</td>\n",
       "      <td>https://pbs.twimg.com/media/CT5Dr8HUEAA-lEu.jpg</td>\n",
       "      <td>1</td>\n",
       "      <td>Rhodesian_ridgeback</td>\n",
       "      <td>0.408143</td>\n",
       "      <td>True</td>\n",
       "      <td>redbone</td>\n",
       "      <td>0.360687</td>\n",
       "      <td>True</td>\n",
       "      <td>miniature_pinscher</td>\n",
       "      <td>0.222752</td>\n",
       "      <td>True</td>\n",
       "    </tr>\n",
       "    <tr>\n",
       "      <th>4</th>\n",
       "      <td>666049248165822465</td>\n",
       "      <td>https://pbs.twimg.com/media/CT5IQmsXIAAKY4A.jpg</td>\n",
       "      <td>1</td>\n",
       "      <td>miniature_pinscher</td>\n",
       "      <td>0.560311</td>\n",
       "      <td>True</td>\n",
       "      <td>Rottweiler</td>\n",
       "      <td>0.243682</td>\n",
       "      <td>True</td>\n",
       "      <td>Doberman</td>\n",
       "      <td>0.154629</td>\n",
       "      <td>True</td>\n",
       "    </tr>\n",
       "    <tr>\n",
       "      <th>...</th>\n",
       "      <td>...</td>\n",
       "      <td>...</td>\n",
       "      <td>...</td>\n",
       "      <td>...</td>\n",
       "      <td>...</td>\n",
       "      <td>...</td>\n",
       "      <td>...</td>\n",
       "      <td>...</td>\n",
       "      <td>...</td>\n",
       "      <td>...</td>\n",
       "      <td>...</td>\n",
       "      <td>...</td>\n",
       "    </tr>\n",
       "    <tr>\n",
       "      <th>2070</th>\n",
       "      <td>891327558926688256</td>\n",
       "      <td>https://pbs.twimg.com/media/DF6hr6BUMAAzZgT.jpg</td>\n",
       "      <td>2</td>\n",
       "      <td>basset</td>\n",
       "      <td>0.555712</td>\n",
       "      <td>True</td>\n",
       "      <td>English_springer</td>\n",
       "      <td>0.225770</td>\n",
       "      <td>True</td>\n",
       "      <td>German_short-haired_pointer</td>\n",
       "      <td>0.175219</td>\n",
       "      <td>True</td>\n",
       "    </tr>\n",
       "    <tr>\n",
       "      <th>2071</th>\n",
       "      <td>891689557279858688</td>\n",
       "      <td>https://pbs.twimg.com/media/DF_q7IAWsAEuuN8.jpg</td>\n",
       "      <td>1</td>\n",
       "      <td>paper_towel</td>\n",
       "      <td>0.170278</td>\n",
       "      <td>False</td>\n",
       "      <td>Labrador_retriever</td>\n",
       "      <td>0.168086</td>\n",
       "      <td>True</td>\n",
       "      <td>spatula</td>\n",
       "      <td>0.040836</td>\n",
       "      <td>False</td>\n",
       "    </tr>\n",
       "    <tr>\n",
       "      <th>2072</th>\n",
       "      <td>891815181378084864</td>\n",
       "      <td>https://pbs.twimg.com/media/DGBdLU1WsAANxJ9.jpg</td>\n",
       "      <td>1</td>\n",
       "      <td>Chihuahua</td>\n",
       "      <td>0.716012</td>\n",
       "      <td>True</td>\n",
       "      <td>malamute</td>\n",
       "      <td>0.078253</td>\n",
       "      <td>True</td>\n",
       "      <td>kelpie</td>\n",
       "      <td>0.031379</td>\n",
       "      <td>True</td>\n",
       "    </tr>\n",
       "    <tr>\n",
       "      <th>2073</th>\n",
       "      <td>892177421306343426</td>\n",
       "      <td>https://pbs.twimg.com/media/DGGmoV4XsAAUL6n.jpg</td>\n",
       "      <td>1</td>\n",
       "      <td>Chihuahua</td>\n",
       "      <td>0.323581</td>\n",
       "      <td>True</td>\n",
       "      <td>Pekinese</td>\n",
       "      <td>0.090647</td>\n",
       "      <td>True</td>\n",
       "      <td>papillon</td>\n",
       "      <td>0.068957</td>\n",
       "      <td>True</td>\n",
       "    </tr>\n",
       "    <tr>\n",
       "      <th>2074</th>\n",
       "      <td>892420643555336193</td>\n",
       "      <td>https://pbs.twimg.com/media/DGKD1-bXoAAIAUK.jpg</td>\n",
       "      <td>1</td>\n",
       "      <td>orange</td>\n",
       "      <td>0.097049</td>\n",
       "      <td>False</td>\n",
       "      <td>bagel</td>\n",
       "      <td>0.085851</td>\n",
       "      <td>False</td>\n",
       "      <td>banana</td>\n",
       "      <td>0.076110</td>\n",
       "      <td>False</td>\n",
       "    </tr>\n",
       "  </tbody>\n",
       "</table>\n",
       "<p>2075 rows × 12 columns</p>\n",
       "</div>"
      ],
      "text/plain": [
       "                tweet_id                                          jpg_url  \\\n",
       "0     666020888022790149  https://pbs.twimg.com/media/CT4udn0WwAA0aMy.jpg   \n",
       "1     666029285002620928  https://pbs.twimg.com/media/CT42GRgUYAA5iDo.jpg   \n",
       "2     666033412701032449  https://pbs.twimg.com/media/CT4521TWwAEvMyu.jpg   \n",
       "3     666044226329800704  https://pbs.twimg.com/media/CT5Dr8HUEAA-lEu.jpg   \n",
       "4     666049248165822465  https://pbs.twimg.com/media/CT5IQmsXIAAKY4A.jpg   \n",
       "...                  ...                                              ...   \n",
       "2070  891327558926688256  https://pbs.twimg.com/media/DF6hr6BUMAAzZgT.jpg   \n",
       "2071  891689557279858688  https://pbs.twimg.com/media/DF_q7IAWsAEuuN8.jpg   \n",
       "2072  891815181378084864  https://pbs.twimg.com/media/DGBdLU1WsAANxJ9.jpg   \n",
       "2073  892177421306343426  https://pbs.twimg.com/media/DGGmoV4XsAAUL6n.jpg   \n",
       "2074  892420643555336193  https://pbs.twimg.com/media/DGKD1-bXoAAIAUK.jpg   \n",
       "\n",
       "      img_num                      p1   p1_conf  p1_dog                  p2  \\\n",
       "0           1  Welsh_springer_spaniel  0.465074    True              collie   \n",
       "1           1                 redbone  0.506826    True  miniature_pinscher   \n",
       "2           1         German_shepherd  0.596461    True            malinois   \n",
       "3           1     Rhodesian_ridgeback  0.408143    True             redbone   \n",
       "4           1      miniature_pinscher  0.560311    True          Rottweiler   \n",
       "...       ...                     ...       ...     ...                 ...   \n",
       "2070        2                  basset  0.555712    True    English_springer   \n",
       "2071        1             paper_towel  0.170278   False  Labrador_retriever   \n",
       "2072        1               Chihuahua  0.716012    True            malamute   \n",
       "2073        1               Chihuahua  0.323581    True            Pekinese   \n",
       "2074        1                  orange  0.097049   False               bagel   \n",
       "\n",
       "       p2_conf  p2_dog                           p3   p3_conf  p3_dog  \n",
       "0     0.156665    True            Shetland_sheepdog  0.061428    True  \n",
       "1     0.074192    True          Rhodesian_ridgeback  0.072010    True  \n",
       "2     0.138584    True                   bloodhound  0.116197    True  \n",
       "3     0.360687    True           miniature_pinscher  0.222752    True  \n",
       "4     0.243682    True                     Doberman  0.154629    True  \n",
       "...        ...     ...                          ...       ...     ...  \n",
       "2070  0.225770    True  German_short-haired_pointer  0.175219    True  \n",
       "2071  0.168086    True                      spatula  0.040836   False  \n",
       "2072  0.078253    True                       kelpie  0.031379    True  \n",
       "2073  0.090647    True                     papillon  0.068957    True  \n",
       "2074  0.085851   False                       banana  0.076110   False  \n",
       "\n",
       "[2075 rows x 12 columns]"
      ]
     },
     "execution_count": 352,
     "metadata": {},
     "output_type": "execute_result"
    }
   ],
   "source": [
    "# display 'image_pred' dataset\n",
    "image_pred"
   ]
  },
  {
   "cell_type": "code",
   "execution_count": 353,
   "id": "1c905f7d",
   "metadata": {},
   "outputs": [
    {
     "data": {
      "text/html": [
       "<div>\n",
       "<style scoped>\n",
       "    .dataframe tbody tr th:only-of-type {\n",
       "        vertical-align: middle;\n",
       "    }\n",
       "\n",
       "    .dataframe tbody tr th {\n",
       "        vertical-align: top;\n",
       "    }\n",
       "\n",
       "    .dataframe thead th {\n",
       "        text-align: right;\n",
       "    }\n",
       "</style>\n",
       "<table border=\"1\" class=\"dataframe\">\n",
       "  <thead>\n",
       "    <tr style=\"text-align: right;\">\n",
       "      <th></th>\n",
       "      <th>tweet_id</th>\n",
       "      <th>favorite_count</th>\n",
       "      <th>retweet_count</th>\n",
       "    </tr>\n",
       "  </thead>\n",
       "  <tbody>\n",
       "    <tr>\n",
       "      <th>0</th>\n",
       "      <td>892420643555336193</td>\n",
       "      <td>39467</td>\n",
       "      <td>8853</td>\n",
       "    </tr>\n",
       "    <tr>\n",
       "      <th>1</th>\n",
       "      <td>892177421306343426</td>\n",
       "      <td>33819</td>\n",
       "      <td>6514</td>\n",
       "    </tr>\n",
       "    <tr>\n",
       "      <th>2</th>\n",
       "      <td>891815181378084864</td>\n",
       "      <td>25461</td>\n",
       "      <td>4328</td>\n",
       "    </tr>\n",
       "    <tr>\n",
       "      <th>3</th>\n",
       "      <td>891689557279858688</td>\n",
       "      <td>42908</td>\n",
       "      <td>8964</td>\n",
       "    </tr>\n",
       "    <tr>\n",
       "      <th>4</th>\n",
       "      <td>891327558926688256</td>\n",
       "      <td>41048</td>\n",
       "      <td>9774</td>\n",
       "    </tr>\n",
       "    <tr>\n",
       "      <th>...</th>\n",
       "      <td>...</td>\n",
       "      <td>...</td>\n",
       "      <td>...</td>\n",
       "    </tr>\n",
       "    <tr>\n",
       "      <th>2349</th>\n",
       "      <td>666049248165822465</td>\n",
       "      <td>111</td>\n",
       "      <td>41</td>\n",
       "    </tr>\n",
       "    <tr>\n",
       "      <th>2350</th>\n",
       "      <td>666044226329800704</td>\n",
       "      <td>311</td>\n",
       "      <td>147</td>\n",
       "    </tr>\n",
       "    <tr>\n",
       "      <th>2351</th>\n",
       "      <td>666033412701032449</td>\n",
       "      <td>128</td>\n",
       "      <td>47</td>\n",
       "    </tr>\n",
       "    <tr>\n",
       "      <th>2352</th>\n",
       "      <td>666029285002620928</td>\n",
       "      <td>132</td>\n",
       "      <td>48</td>\n",
       "    </tr>\n",
       "    <tr>\n",
       "      <th>2353</th>\n",
       "      <td>666020888022790149</td>\n",
       "      <td>2535</td>\n",
       "      <td>532</td>\n",
       "    </tr>\n",
       "  </tbody>\n",
       "</table>\n",
       "<p>2354 rows × 3 columns</p>\n",
       "</div>"
      ],
      "text/plain": [
       "                tweet_id  favorite_count  retweet_count\n",
       "0     892420643555336193           39467           8853\n",
       "1     892177421306343426           33819           6514\n",
       "2     891815181378084864           25461           4328\n",
       "3     891689557279858688           42908           8964\n",
       "4     891327558926688256           41048           9774\n",
       "...                  ...             ...            ...\n",
       "2349  666049248165822465             111             41\n",
       "2350  666044226329800704             311            147\n",
       "2351  666033412701032449             128             47\n",
       "2352  666029285002620928             132             48\n",
       "2353  666020888022790149            2535            532\n",
       "\n",
       "[2354 rows x 3 columns]"
      ]
     },
     "execution_count": 353,
     "metadata": {},
     "output_type": "execute_result"
    }
   ],
   "source": [
    "# Display 'retweet_favorite_count' dataset\n",
    "retweet_favorite_count"
   ]
  },
  {
   "cell_type": "markdown",
   "id": "bf8160c1",
   "metadata": {},
   "source": [
    "### Programmatic assessment"
   ]
  },
  {
   "cell_type": "markdown",
   "id": "5204986a",
   "metadata": {},
   "source": [
    "Assessing the dataset programmatically"
   ]
  },
  {
   "cell_type": "code",
   "execution_count": 354,
   "id": "59822d44",
   "metadata": {},
   "outputs": [
    {
     "name": "stdout",
     "output_type": "stream",
     "text": [
      "<class 'pandas.core.frame.DataFrame'>\n",
      "RangeIndex: 2356 entries, 0 to 2355\n",
      "Data columns (total 17 columns):\n",
      " #   Column                      Non-Null Count  Dtype  \n",
      "---  ------                      --------------  -----  \n",
      " 0   tweet_id                    2356 non-null   int64  \n",
      " 1   in_reply_to_status_id       78 non-null     float64\n",
      " 2   in_reply_to_user_id         78 non-null     float64\n",
      " 3   timestamp                   2356 non-null   object \n",
      " 4   source                      2356 non-null   object \n",
      " 5   text                        2356 non-null   object \n",
      " 6   retweeted_status_id         181 non-null    float64\n",
      " 7   retweeted_status_user_id    181 non-null    float64\n",
      " 8   retweeted_status_timestamp  181 non-null    object \n",
      " 9   expanded_urls               2297 non-null   object \n",
      " 10  rating_numerator            2356 non-null   int64  \n",
      " 11  rating_denominator          2356 non-null   int64  \n",
      " 12  name                        2356 non-null   object \n",
      " 13  doggo                       2356 non-null   object \n",
      " 14  floofer                     2356 non-null   object \n",
      " 15  pupper                      2356 non-null   object \n",
      " 16  puppo                       2356 non-null   object \n",
      "dtypes: float64(4), int64(3), object(10)\n",
      "memory usage: 313.0+ KB\n"
     ]
    }
   ],
   "source": [
    "twitter_archive.info()"
   ]
  },
  {
   "cell_type": "markdown",
   "id": "55c8ec0a",
   "metadata": {},
   "source": [
    "##### Issues Found:"
   ]
  },
  {
   "cell_type": "markdown",
   "id": "1d4f1929",
   "metadata": {},
   "source": [
    "- `timestamp` datatype\n",
    "- dataset still has retweets\n",
    "- unneeded columns (`retweeted_status_id`, `retweeted_status_user_id`)\n",
    "- Dog stages in different columns"
   ]
  },
  {
   "cell_type": "code",
   "execution_count": 355,
   "id": "44b9b936",
   "metadata": {
    "scrolled": true
   },
   "outputs": [
    {
     "name": "stdout",
     "output_type": "stream",
     "text": [
      "<class 'pandas.core.frame.DataFrame'>\n",
      "RangeIndex: 2075 entries, 0 to 2074\n",
      "Data columns (total 12 columns):\n",
      " #   Column    Non-Null Count  Dtype  \n",
      "---  ------    --------------  -----  \n",
      " 0   tweet_id  2075 non-null   int64  \n",
      " 1   jpg_url   2075 non-null   object \n",
      " 2   img_num   2075 non-null   int64  \n",
      " 3   p1        2075 non-null   object \n",
      " 4   p1_conf   2075 non-null   float64\n",
      " 5   p1_dog    2075 non-null   bool   \n",
      " 6   p2        2075 non-null   object \n",
      " 7   p2_conf   2075 non-null   float64\n",
      " 8   p2_dog    2075 non-null   bool   \n",
      " 9   p3        2075 non-null   object \n",
      " 10  p3_conf   2075 non-null   float64\n",
      " 11  p3_dog    2075 non-null   bool   \n",
      "dtypes: bool(3), float64(3), int64(2), object(4)\n",
      "memory usage: 152.1+ KB\n"
     ]
    }
   ],
   "source": [
    "image_pred.info()"
   ]
  },
  {
   "cell_type": "markdown",
   "id": "df42f6a9",
   "metadata": {},
   "source": [
    "#### Issues Found"
   ]
  },
  {
   "cell_type": "markdown",
   "id": "64913fdb",
   "metadata": {},
   "source": [
    "- Dog predictions in different columns"
   ]
  },
  {
   "cell_type": "code",
   "execution_count": 356,
   "id": "be7508e1",
   "metadata": {},
   "outputs": [
    {
     "name": "stdout",
     "output_type": "stream",
     "text": [
      "<class 'pandas.core.frame.DataFrame'>\n",
      "RangeIndex: 2354 entries, 0 to 2353\n",
      "Data columns (total 3 columns):\n",
      " #   Column          Non-Null Count  Dtype \n",
      "---  ------          --------------  ----- \n",
      " 0   tweet_id        2354 non-null   object\n",
      " 1   favorite_count  2354 non-null   int64 \n",
      " 2   retweet_count   2354 non-null   int64 \n",
      "dtypes: int64(2), object(1)\n",
      "memory usage: 55.3+ KB\n"
     ]
    }
   ],
   "source": [
    "retweet_favorite_count.info()"
   ]
  },
  {
   "cell_type": "code",
   "execution_count": 357,
   "id": "ec5d750f",
   "metadata": {},
   "outputs": [
    {
     "data": {
      "text/plain": [
       "Index(['tweet_id', 'in_reply_to_status_id', 'in_reply_to_user_id', 'timestamp',\n",
       "       'source', 'text', 'retweeted_status_id', 'retweeted_status_user_id',\n",
       "       'retweeted_status_timestamp', 'expanded_urls', 'rating_numerator',\n",
       "       'rating_denominator', 'name', 'doggo', 'floofer', 'pupper', 'puppo'],\n",
       "      dtype='object')"
      ]
     },
     "execution_count": 357,
     "metadata": {},
     "output_type": "execute_result"
    }
   ],
   "source": [
    "# Checking the columns\n",
    "twitter_archive.columns"
   ]
  },
  {
   "cell_type": "code",
   "execution_count": 358,
   "id": "54f233a2",
   "metadata": {},
   "outputs": [
    {
     "data": {
      "text/plain": [
       "17    tweet_id\n",
       "29    tweet_id\n",
       "dtype: object"
      ]
     },
     "execution_count": 358,
     "metadata": {},
     "output_type": "execute_result"
    }
   ],
   "source": [
    "# checking if the columns have duplicates\n",
    "all_columns = pd.Series(list(twitter_archive) + list(image_pred) + list(retweet_favorite_count))\n",
    "all_columns[all_columns.duplicated()]"
   ]
  },
  {
   "cell_type": "code",
   "execution_count": 359,
   "id": "09a4ba6e",
   "metadata": {
    "scrolled": true
   },
   "outputs": [
    {
     "data": {
      "text/plain": [
       "(None        745\n",
       " a            55\n",
       " Charlie      12\n",
       " Cooper       11\n",
       " Lucy         11\n",
       " Oliver       11\n",
       " Tucker       10\n",
       " Penny        10\n",
       " Lola         10\n",
       " Winston       9\n",
       " Bo            9\n",
       " Sadie         8\n",
       " the           8\n",
       " Daisy         7\n",
       " Buddy         7\n",
       " Toby          7\n",
       " an            7\n",
       " Bailey        7\n",
       " Leo           6\n",
       " Oscar         6\n",
       " Stanley       6\n",
       " Rusty         6\n",
       " Bella         6\n",
       " Dave          6\n",
       " Jack          6\n",
       " Koda          6\n",
       " Scout         6\n",
       " Jax           6\n",
       " Milo          6\n",
       " Louis         5\n",
       " Phil          5\n",
       " Sammy         5\n",
       " Gus           5\n",
       " Chester       5\n",
       " Alfie         5\n",
       " Sunny         5\n",
       " Bentley       5\n",
       " very          5\n",
       " Oakley        5\n",
       " Finn          5\n",
       " George        5\n",
       " Larry         5\n",
       " Clarence      4\n",
       " Loki          4\n",
       " Walter        4\n",
       " Reggie        4\n",
       " Hank          4\n",
       " Scooter       4\n",
       " Duke          4\n",
       " quite         4\n",
       " Name: name, dtype: int64,\n",
       " Index(['None', 'a', 'Charlie', 'Cooper', 'Lucy', 'Oliver', 'Tucker', 'Penny',\n",
       "        'Lola', 'Winston',\n",
       "        ...\n",
       "        'Corey', 'Leonard', 'Beckham', 'Devón', 'Gert', 'Dex', 'Ace', 'Tayzie',\n",
       "        'Grizzie', 'Christoper'],\n",
       "       dtype='object', length=957))"
      ]
     },
     "execution_count": 359,
     "metadata": {},
     "output_type": "execute_result"
    }
   ],
   "source": [
    "# Checking the dog names\n",
    "twitter_archive.name.value_counts().head(50), twitter_archive.name.value_counts().index"
   ]
  },
  {
   "cell_type": "markdown",
   "id": "daeaaeb9",
   "metadata": {},
   "source": [
    "#### Issues Found"
   ]
  },
  {
   "cell_type": "markdown",
   "id": "83857091",
   "metadata": {},
   "source": [
    "- Invalid dog names"
   ]
  },
  {
   "cell_type": "code",
   "execution_count": 360,
   "id": "a19abb02",
   "metadata": {},
   "outputs": [
    {
     "data": {
      "text/plain": [
       "a               55\n",
       "the              8\n",
       "an               7\n",
       "very             5\n",
       "just             4\n",
       "quite            4\n",
       "one              4\n",
       "getting          2\n",
       "actually         2\n",
       "mad              2\n",
       "not              2\n",
       "old              1\n",
       "life             1\n",
       "officially       1\n",
       "light            1\n",
       "by               1\n",
       "infuriating      1\n",
       "such             1\n",
       "all              1\n",
       "unacceptable     1\n",
       "this             1\n",
       "his              1\n",
       "my               1\n",
       "incredibly       1\n",
       "space            1\n",
       "Name: name, dtype: int64"
      ]
     },
     "execution_count": 360,
     "metadata": {},
     "output_type": "execute_result"
    }
   ],
   "source": [
    "# checking if the invalid dog names are those lower case\n",
    "twitter_archive[twitter_archive.name.str.islower()].name.value_counts()"
   ]
  },
  {
   "cell_type": "code",
   "execution_count": 361,
   "id": "f080fddf",
   "metadata": {},
   "outputs": [
    {
     "data": {
      "text/plain": [
       "None     2259\n",
       "doggo      97\n",
       "Name: doggo, dtype: int64"
      ]
     },
     "execution_count": 361,
     "metadata": {},
     "output_type": "execute_result"
    }
   ],
   "source": [
    "twitter_archive.doggo.value_counts()"
   ]
  },
  {
   "cell_type": "code",
   "execution_count": 362,
   "id": "c6fff033",
   "metadata": {},
   "outputs": [
    {
     "data": {
      "text/plain": [
       "None       2346\n",
       "floofer      10\n",
       "Name: floofer, dtype: int64"
      ]
     },
     "execution_count": 362,
     "metadata": {},
     "output_type": "execute_result"
    }
   ],
   "source": [
    "twitter_archive.floofer.value_counts()"
   ]
  },
  {
   "cell_type": "code",
   "execution_count": 363,
   "id": "46a1df19",
   "metadata": {},
   "outputs": [
    {
     "data": {
      "text/plain": [
       "None      2099\n",
       "pupper     257\n",
       "Name: pupper, dtype: int64"
      ]
     },
     "execution_count": 363,
     "metadata": {},
     "output_type": "execute_result"
    }
   ],
   "source": [
    "twitter_archive.pupper.value_counts()"
   ]
  },
  {
   "cell_type": "code",
   "execution_count": 364,
   "id": "5e1c3268",
   "metadata": {},
   "outputs": [
    {
     "data": {
      "text/plain": [
       "None     2326\n",
       "puppo      30\n",
       "Name: puppo, dtype: int64"
      ]
     },
     "execution_count": 364,
     "metadata": {},
     "output_type": "execute_result"
    }
   ],
   "source": [
    "twitter_archive.puppo.value_counts()"
   ]
  },
  {
   "cell_type": "code",
   "execution_count": 365,
   "id": "1a52d5e7",
   "metadata": {
    "scrolled": true
   },
   "outputs": [
    {
     "data": {
      "text/plain": [
       "\"Here we have a majestic great white breaching off South Africa's coast. Absolutely h*ckin breathtaking. 13/10 (IG: tucker_marlo) #BarkWeek https://t.co/kQ04fDDRmh\""
      ]
     },
     "execution_count": 365,
     "metadata": {},
     "output_type": "execute_result"
    }
   ],
   "source": [
    "twitter_archive.text[5]"
   ]
  },
  {
   "cell_type": "markdown",
   "id": "769e2759",
   "metadata": {},
   "source": [
    "#### Issues Found"
   ]
  },
  {
   "cell_type": "markdown",
   "id": "344b18d7",
   "metadata": {},
   "source": [
    "- Tweet link found at the end of the text"
   ]
  },
  {
   "cell_type": "code",
   "execution_count": 366,
   "id": "2802ebf1",
   "metadata": {
    "scrolled": true
   },
   "outputs": [
    {
     "data": {
      "text/plain": [
       "'<a href=\"http://twitter.com/download/iphone\" rel=\"nofollow\">Twitter for iPhone</a>'"
      ]
     },
     "execution_count": 366,
     "metadata": {},
     "output_type": "execute_result"
    }
   ],
   "source": [
    "twitter_archive.source[4]"
   ]
  },
  {
   "cell_type": "markdown",
   "id": "24d1ceae",
   "metadata": {},
   "source": [
    "#### Issues Found"
   ]
  },
  {
   "cell_type": "markdown",
   "id": "f21987a9",
   "metadata": {},
   "source": [
    "- The tweet source has tags"
   ]
  },
  {
   "cell_type": "code",
   "execution_count": 367,
   "id": "b1aa5c49",
   "metadata": {},
   "outputs": [
    {
     "data": {
      "text/html": [
       "<div>\n",
       "<style scoped>\n",
       "    .dataframe tbody tr th:only-of-type {\n",
       "        vertical-align: middle;\n",
       "    }\n",
       "\n",
       "    .dataframe tbody tr th {\n",
       "        vertical-align: top;\n",
       "    }\n",
       "\n",
       "    .dataframe thead th {\n",
       "        text-align: right;\n",
       "    }\n",
       "</style>\n",
       "<table border=\"1\" class=\"dataframe\">\n",
       "  <thead>\n",
       "    <tr style=\"text-align: right;\">\n",
       "      <th></th>\n",
       "      <th>tweet_id</th>\n",
       "      <th>jpg_url</th>\n",
       "      <th>img_num</th>\n",
       "      <th>p1</th>\n",
       "      <th>p1_conf</th>\n",
       "      <th>p1_dog</th>\n",
       "      <th>p2</th>\n",
       "      <th>p2_conf</th>\n",
       "      <th>p2_dog</th>\n",
       "      <th>p3</th>\n",
       "      <th>p3_conf</th>\n",
       "      <th>p3_dog</th>\n",
       "    </tr>\n",
       "  </thead>\n",
       "  <tbody>\n",
       "  </tbody>\n",
       "</table>\n",
       "</div>"
      ],
      "text/plain": [
       "Empty DataFrame\n",
       "Columns: [tweet_id, jpg_url, img_num, p1, p1_conf, p1_dog, p2, p2_conf, p2_dog, p3, p3_conf, p3_dog]\n",
       "Index: []"
      ]
     },
     "execution_count": 367,
     "metadata": {},
     "output_type": "execute_result"
    }
   ],
   "source": [
    "image_pred[image_pred.tweet_id.duplicated()]"
   ]
  },
  {
   "cell_type": "code",
   "execution_count": 368,
   "id": "5c650293",
   "metadata": {},
   "outputs": [
    {
     "data": {
      "text/plain": [
       "0        True\n",
       "1        True\n",
       "2        True\n",
       "3        True\n",
       "4        True\n",
       "        ...  \n",
       "2070     True\n",
       "2071    False\n",
       "2072     True\n",
       "2073     True\n",
       "2074    False\n",
       "Name: p1_dog, Length: 2075, dtype: bool"
      ]
     },
     "execution_count": 368,
     "metadata": {},
     "output_type": "execute_result"
    }
   ],
   "source": [
    "image_pred.p1_dog"
   ]
  },
  {
   "cell_type": "code",
   "execution_count": 369,
   "id": "053995cc",
   "metadata": {},
   "outputs": [
    {
     "data": {
      "text/plain": [
       "True     1532\n",
       "False     543\n",
       "Name: p1_dog, dtype: int64"
      ]
     },
     "execution_count": 369,
     "metadata": {},
     "output_type": "execute_result"
    }
   ],
   "source": [
    "image_pred.p1_dog.value_counts()"
   ]
  },
  {
   "cell_type": "code",
   "execution_count": 370,
   "id": "930ca389",
   "metadata": {
    "scrolled": true
   },
   "outputs": [
    {
     "data": {
      "text/html": [
       "<div>\n",
       "<style scoped>\n",
       "    .dataframe tbody tr th:only-of-type {\n",
       "        vertical-align: middle;\n",
       "    }\n",
       "\n",
       "    .dataframe tbody tr th {\n",
       "        vertical-align: top;\n",
       "    }\n",
       "\n",
       "    .dataframe thead th {\n",
       "        text-align: right;\n",
       "    }\n",
       "</style>\n",
       "<table border=\"1\" class=\"dataframe\">\n",
       "  <thead>\n",
       "    <tr style=\"text-align: right;\">\n",
       "      <th></th>\n",
       "      <th>doggo</th>\n",
       "      <th>0</th>\n",
       "    </tr>\n",
       "  </thead>\n",
       "  <tbody>\n",
       "    <tr>\n",
       "      <th>0</th>\n",
       "      <td>None</td>\n",
       "      <td>2259</td>\n",
       "    </tr>\n",
       "    <tr>\n",
       "      <th>1</th>\n",
       "      <td>doggo</td>\n",
       "      <td>97</td>\n",
       "    </tr>\n",
       "  </tbody>\n",
       "</table>\n",
       "</div>"
      ],
      "text/plain": [
       "   doggo     0\n",
       "0   None  2259\n",
       "1  doggo    97"
      ]
     },
     "execution_count": 370,
     "metadata": {},
     "output_type": "execute_result"
    }
   ],
   "source": [
    "twitter_archive.groupby(\"doggo\").size().reset_index()"
   ]
  },
  {
   "cell_type": "code",
   "execution_count": 371,
   "id": "d185a5b1",
   "metadata": {},
   "outputs": [
    {
     "data": {
      "text/html": [
       "<div>\n",
       "<style scoped>\n",
       "    .dataframe tbody tr th:only-of-type {\n",
       "        vertical-align: middle;\n",
       "    }\n",
       "\n",
       "    .dataframe tbody tr th {\n",
       "        vertical-align: top;\n",
       "    }\n",
       "\n",
       "    .dataframe thead th {\n",
       "        text-align: right;\n",
       "    }\n",
       "</style>\n",
       "<table border=\"1\" class=\"dataframe\">\n",
       "  <thead>\n",
       "    <tr style=\"text-align: right;\">\n",
       "      <th></th>\n",
       "      <th>tweet_id</th>\n",
       "      <th>jpg_url</th>\n",
       "      <th>img_num</th>\n",
       "      <th>p1</th>\n",
       "      <th>p1_conf</th>\n",
       "      <th>p1_dog</th>\n",
       "      <th>p2</th>\n",
       "      <th>p2_conf</th>\n",
       "      <th>p2_dog</th>\n",
       "      <th>p3</th>\n",
       "      <th>p3_conf</th>\n",
       "      <th>p3_dog</th>\n",
       "    </tr>\n",
       "  </thead>\n",
       "  <tbody>\n",
       "    <tr>\n",
       "      <th>0</th>\n",
       "      <td>666020888022790149</td>\n",
       "      <td>https://pbs.twimg.com/media/CT4udn0WwAA0aMy.jpg</td>\n",
       "      <td>1</td>\n",
       "      <td>Welsh_springer_spaniel</td>\n",
       "      <td>0.465074</td>\n",
       "      <td>True</td>\n",
       "      <td>collie</td>\n",
       "      <td>0.156665</td>\n",
       "      <td>True</td>\n",
       "      <td>Shetland_sheepdog</td>\n",
       "      <td>0.061428</td>\n",
       "      <td>True</td>\n",
       "    </tr>\n",
       "    <tr>\n",
       "      <th>1</th>\n",
       "      <td>666029285002620928</td>\n",
       "      <td>https://pbs.twimg.com/media/CT42GRgUYAA5iDo.jpg</td>\n",
       "      <td>1</td>\n",
       "      <td>redbone</td>\n",
       "      <td>0.506826</td>\n",
       "      <td>True</td>\n",
       "      <td>miniature_pinscher</td>\n",
       "      <td>0.074192</td>\n",
       "      <td>True</td>\n",
       "      <td>Rhodesian_ridgeback</td>\n",
       "      <td>0.072010</td>\n",
       "      <td>True</td>\n",
       "    </tr>\n",
       "    <tr>\n",
       "      <th>2</th>\n",
       "      <td>666033412701032449</td>\n",
       "      <td>https://pbs.twimg.com/media/CT4521TWwAEvMyu.jpg</td>\n",
       "      <td>1</td>\n",
       "      <td>German_shepherd</td>\n",
       "      <td>0.596461</td>\n",
       "      <td>True</td>\n",
       "      <td>malinois</td>\n",
       "      <td>0.138584</td>\n",
       "      <td>True</td>\n",
       "      <td>bloodhound</td>\n",
       "      <td>0.116197</td>\n",
       "      <td>True</td>\n",
       "    </tr>\n",
       "    <tr>\n",
       "      <th>3</th>\n",
       "      <td>666044226329800704</td>\n",
       "      <td>https://pbs.twimg.com/media/CT5Dr8HUEAA-lEu.jpg</td>\n",
       "      <td>1</td>\n",
       "      <td>Rhodesian_ridgeback</td>\n",
       "      <td>0.408143</td>\n",
       "      <td>True</td>\n",
       "      <td>redbone</td>\n",
       "      <td>0.360687</td>\n",
       "      <td>True</td>\n",
       "      <td>miniature_pinscher</td>\n",
       "      <td>0.222752</td>\n",
       "      <td>True</td>\n",
       "    </tr>\n",
       "    <tr>\n",
       "      <th>4</th>\n",
       "      <td>666049248165822465</td>\n",
       "      <td>https://pbs.twimg.com/media/CT5IQmsXIAAKY4A.jpg</td>\n",
       "      <td>1</td>\n",
       "      <td>miniature_pinscher</td>\n",
       "      <td>0.560311</td>\n",
       "      <td>True</td>\n",
       "      <td>Rottweiler</td>\n",
       "      <td>0.243682</td>\n",
       "      <td>True</td>\n",
       "      <td>Doberman</td>\n",
       "      <td>0.154629</td>\n",
       "      <td>True</td>\n",
       "    </tr>\n",
       "    <tr>\n",
       "      <th>...</th>\n",
       "      <td>...</td>\n",
       "      <td>...</td>\n",
       "      <td>...</td>\n",
       "      <td>...</td>\n",
       "      <td>...</td>\n",
       "      <td>...</td>\n",
       "      <td>...</td>\n",
       "      <td>...</td>\n",
       "      <td>...</td>\n",
       "      <td>...</td>\n",
       "      <td>...</td>\n",
       "      <td>...</td>\n",
       "    </tr>\n",
       "    <tr>\n",
       "      <th>2070</th>\n",
       "      <td>891327558926688256</td>\n",
       "      <td>https://pbs.twimg.com/media/DF6hr6BUMAAzZgT.jpg</td>\n",
       "      <td>2</td>\n",
       "      <td>basset</td>\n",
       "      <td>0.555712</td>\n",
       "      <td>True</td>\n",
       "      <td>English_springer</td>\n",
       "      <td>0.225770</td>\n",
       "      <td>True</td>\n",
       "      <td>German_short-haired_pointer</td>\n",
       "      <td>0.175219</td>\n",
       "      <td>True</td>\n",
       "    </tr>\n",
       "    <tr>\n",
       "      <th>2071</th>\n",
       "      <td>891689557279858688</td>\n",
       "      <td>https://pbs.twimg.com/media/DF_q7IAWsAEuuN8.jpg</td>\n",
       "      <td>1</td>\n",
       "      <td>paper_towel</td>\n",
       "      <td>0.170278</td>\n",
       "      <td>False</td>\n",
       "      <td>Labrador_retriever</td>\n",
       "      <td>0.168086</td>\n",
       "      <td>True</td>\n",
       "      <td>spatula</td>\n",
       "      <td>0.040836</td>\n",
       "      <td>False</td>\n",
       "    </tr>\n",
       "    <tr>\n",
       "      <th>2072</th>\n",
       "      <td>891815181378084864</td>\n",
       "      <td>https://pbs.twimg.com/media/DGBdLU1WsAANxJ9.jpg</td>\n",
       "      <td>1</td>\n",
       "      <td>Chihuahua</td>\n",
       "      <td>0.716012</td>\n",
       "      <td>True</td>\n",
       "      <td>malamute</td>\n",
       "      <td>0.078253</td>\n",
       "      <td>True</td>\n",
       "      <td>kelpie</td>\n",
       "      <td>0.031379</td>\n",
       "      <td>True</td>\n",
       "    </tr>\n",
       "    <tr>\n",
       "      <th>2073</th>\n",
       "      <td>892177421306343426</td>\n",
       "      <td>https://pbs.twimg.com/media/DGGmoV4XsAAUL6n.jpg</td>\n",
       "      <td>1</td>\n",
       "      <td>Chihuahua</td>\n",
       "      <td>0.323581</td>\n",
       "      <td>True</td>\n",
       "      <td>Pekinese</td>\n",
       "      <td>0.090647</td>\n",
       "      <td>True</td>\n",
       "      <td>papillon</td>\n",
       "      <td>0.068957</td>\n",
       "      <td>True</td>\n",
       "    </tr>\n",
       "    <tr>\n",
       "      <th>2074</th>\n",
       "      <td>892420643555336193</td>\n",
       "      <td>https://pbs.twimg.com/media/DGKD1-bXoAAIAUK.jpg</td>\n",
       "      <td>1</td>\n",
       "      <td>orange</td>\n",
       "      <td>0.097049</td>\n",
       "      <td>False</td>\n",
       "      <td>bagel</td>\n",
       "      <td>0.085851</td>\n",
       "      <td>False</td>\n",
       "      <td>banana</td>\n",
       "      <td>0.076110</td>\n",
       "      <td>False</td>\n",
       "    </tr>\n",
       "  </tbody>\n",
       "</table>\n",
       "<p>2075 rows × 12 columns</p>\n",
       "</div>"
      ],
      "text/plain": [
       "                tweet_id                                          jpg_url  \\\n",
       "0     666020888022790149  https://pbs.twimg.com/media/CT4udn0WwAA0aMy.jpg   \n",
       "1     666029285002620928  https://pbs.twimg.com/media/CT42GRgUYAA5iDo.jpg   \n",
       "2     666033412701032449  https://pbs.twimg.com/media/CT4521TWwAEvMyu.jpg   \n",
       "3     666044226329800704  https://pbs.twimg.com/media/CT5Dr8HUEAA-lEu.jpg   \n",
       "4     666049248165822465  https://pbs.twimg.com/media/CT5IQmsXIAAKY4A.jpg   \n",
       "...                  ...                                              ...   \n",
       "2070  891327558926688256  https://pbs.twimg.com/media/DF6hr6BUMAAzZgT.jpg   \n",
       "2071  891689557279858688  https://pbs.twimg.com/media/DF_q7IAWsAEuuN8.jpg   \n",
       "2072  891815181378084864  https://pbs.twimg.com/media/DGBdLU1WsAANxJ9.jpg   \n",
       "2073  892177421306343426  https://pbs.twimg.com/media/DGGmoV4XsAAUL6n.jpg   \n",
       "2074  892420643555336193  https://pbs.twimg.com/media/DGKD1-bXoAAIAUK.jpg   \n",
       "\n",
       "      img_num                      p1   p1_conf  p1_dog                  p2  \\\n",
       "0           1  Welsh_springer_spaniel  0.465074    True              collie   \n",
       "1           1                 redbone  0.506826    True  miniature_pinscher   \n",
       "2           1         German_shepherd  0.596461    True            malinois   \n",
       "3           1     Rhodesian_ridgeback  0.408143    True             redbone   \n",
       "4           1      miniature_pinscher  0.560311    True          Rottweiler   \n",
       "...       ...                     ...       ...     ...                 ...   \n",
       "2070        2                  basset  0.555712    True    English_springer   \n",
       "2071        1             paper_towel  0.170278   False  Labrador_retriever   \n",
       "2072        1               Chihuahua  0.716012    True            malamute   \n",
       "2073        1               Chihuahua  0.323581    True            Pekinese   \n",
       "2074        1                  orange  0.097049   False               bagel   \n",
       "\n",
       "       p2_conf  p2_dog                           p3   p3_conf  p3_dog  \n",
       "0     0.156665    True            Shetland_sheepdog  0.061428    True  \n",
       "1     0.074192    True          Rhodesian_ridgeback  0.072010    True  \n",
       "2     0.138584    True                   bloodhound  0.116197    True  \n",
       "3     0.360687    True           miniature_pinscher  0.222752    True  \n",
       "4     0.243682    True                     Doberman  0.154629    True  \n",
       "...        ...     ...                          ...       ...     ...  \n",
       "2070  0.225770    True  German_short-haired_pointer  0.175219    True  \n",
       "2071  0.168086    True                      spatula  0.040836   False  \n",
       "2072  0.078253    True                       kelpie  0.031379    True  \n",
       "2073  0.090647    True                     papillon  0.068957    True  \n",
       "2074  0.085851   False                       banana  0.076110   False  \n",
       "\n",
       "[2075 rows x 12 columns]"
      ]
     },
     "execution_count": 371,
     "metadata": {},
     "output_type": "execute_result"
    }
   ],
   "source": [
    "image_pred"
   ]
  },
  {
   "cell_type": "markdown",
   "id": "843a15dc",
   "metadata": {},
   "source": [
    "### We now document the issues found while accessing the datasets"
   ]
  },
  {
   "cell_type": "markdown",
   "id": "e11b937a",
   "metadata": {},
   "source": [
    "### Quality Issues"
   ]
  },
  {
   "cell_type": "markdown",
   "id": "21b70ca2",
   "metadata": {},
   "source": [
    "`twitter_archive` dataset"
   ]
  },
  {
   "cell_type": "markdown",
   "id": "9b125061",
   "metadata": {},
   "source": [
    "- Erroneous datatype (timestamp)\n",
    "- Only original tweets should be in the dataset (no retweets)\n",
    "- Incorrect names like 'an', 'a', 'the', 'light', 'old'\n",
    "- In the `text` column, the text has the tweet link at the of the text (should only have the text)\n",
    "- The `source` column should have only the `HTML` content (without the tags)\n",
    "- There are features that are not needed like `retweeted_status_id`, `retweeted_status_user_id`, `retweeted_status_timestamp`, etc. \n",
    "- Incorrect numerator and denominator ratings"
   ]
  },
  {
   "cell_type": "markdown",
   "id": "fe40b22f",
   "metadata": {},
   "source": [
    "`image_pred` dataset"
   ]
  },
  {
   "cell_type": "markdown",
   "id": "1e61583d",
   "metadata": {},
   "source": [
    "- There are dog predictions that are false, which means they are not Dogs\n",
    "- The names of Dog breeds is not standardized (the names are are not in title case)"
   ]
  },
  {
   "cell_type": "markdown",
   "id": "57c24911",
   "metadata": {},
   "source": [
    "### Tidiness Issues"
   ]
  },
  {
   "cell_type": "markdown",
   "id": "b6197627",
   "metadata": {},
   "source": [
    "`twitter_archive` dataset"
   ]
  },
  {
   "cell_type": "markdown",
   "id": "70c943e8",
   "metadata": {},
   "source": [
    "- The `dog_stage` are in separate columns (`doggo`, `floofer`, `pupper`,`puppo`)"
   ]
  },
  {
   "cell_type": "markdown",
   "id": "4cd32c15",
   "metadata": {},
   "source": [
    "`image_pred` dataset"
   ]
  },
  {
   "cell_type": "markdown",
   "id": "78c3984a",
   "metadata": {},
   "source": [
    "- The predictions should be in one column\n"
   ]
  },
  {
   "cell_type": "markdown",
   "id": "e523fe5c",
   "metadata": {},
   "source": [
    "### All dataset"
   ]
  },
  {
   "cell_type": "markdown",
   "id": "9bec4f81",
   "metadata": {},
   "source": [
    "- Combine all datasets"
   ]
  },
  {
   "cell_type": "markdown",
   "id": "d13008bc",
   "metadata": {},
   "source": [
    "<a id='cleaning'></a>\n",
    "## Cleaning Data"
   ]
  },
  {
   "cell_type": "markdown",
   "id": "5c3c518c",
   "metadata": {},
   "source": [
    "In this data wrangling stage, we will start working on the issues we identified in the assessing data stage."
   ]
  },
  {
   "cell_type": "markdown",
   "id": "cbad857e",
   "metadata": {},
   "source": [
    "First, I will make a copy of the original datasets."
   ]
  },
  {
   "cell_type": "code",
   "execution_count": 372,
   "id": "5d417673",
   "metadata": {},
   "outputs": [],
   "source": [
    "# Making copies of the original datasets\n",
    "twitter_archive_clean = twitter_archive.copy()\n",
    "retweet_favorite_count_clean = retweet_favorite_count.copy()\n",
    "image_pred_clean = image_pred.copy()"
   ]
  },
  {
   "cell_type": "markdown",
   "id": "321aac9e",
   "metadata": {},
   "source": [
    "We will first clean the tidiness issues (structural issues) to make our the cleaning process easier."
   ]
  },
  {
   "cell_type": "markdown",
   "id": "a14b33f4",
   "metadata": {},
   "source": [
    "### Tidiness Issues"
   ]
  },
  {
   "cell_type": "markdown",
   "id": "8fd6a3b9",
   "metadata": {},
   "source": [
    "#### `image_pred` dataset"
   ]
  },
  {
   "cell_type": "markdown",
   "id": "6372b9a0",
   "metadata": {},
   "source": [
    "### Issue #1: The predictions should be in one column\n",
    "\n"
   ]
  },
  {
   "cell_type": "markdown",
   "id": "03aca6f6",
   "metadata": {},
   "source": [
    "### Define"
   ]
  },
  {
   "cell_type": "markdown",
   "id": "d0304699",
   "metadata": {},
   "source": [
    "- Create a column called `dog_breed` to hold the a dog's breed, and then check the confidence level of each prediction to decide .\n",
    "- Drop the columns that are no longer needed."
   ]
  },
  {
   "cell_type": "markdown",
   "id": "03f40930",
   "metadata": {},
   "source": [
    "### Code"
   ]
  },
  {
   "cell_type": "markdown",
   "id": "8312c0f5",
   "metadata": {},
   "source": [
    "I will write a custom function to do this"
   ]
  },
  {
   "cell_type": "code",
   "execution_count": 373,
   "id": "7f1cd2c1",
   "metadata": {},
   "outputs": [],
   "source": [
    "def condition(df):\n",
    "    if df[0] == True:\n",
    "        return df[1]\n",
    "    elif df[2] == True:\n",
    "        return df[3]\n",
    "    else:\n",
    "        return df[4]"
   ]
  },
  {
   "cell_type": "code",
   "execution_count": 374,
   "id": "2e7afaa8",
   "metadata": {},
   "outputs": [],
   "source": [
    "# we now call the function\n",
    "p_cols = [\"p1_dog\", \"p1\", \"p2_dog\", \"p2\", \"p3\"]\n",
    "c_cols = [\"p1_dog\", \"p1_conf\", \"p2_dog\", \"p2_conf\", \"p3\"]\n",
    "image_pred_clean[\"dog_breed\"] = image_pred_clean[p_cols].apply(condition, axis=1)\n",
    "image_pred_clean[\"conf\"] = image_pred_clean[c_cols].apply(condition, axis=1)\n"
   ]
  },
  {
   "cell_type": "code",
   "execution_count": 375,
   "id": "a51b27b1",
   "metadata": {},
   "outputs": [],
   "source": [
    "# dropping the columns that are not needed\n",
    "image_pred_clean.drop(columns=[\"p1_dog\", \"p1\", \"p2_dog\", \"p2\", \"p3\", \"p1_conf\", \"p2_conf\", \"p3_conf\", \"p3_dog\"], inplace=True)"
   ]
  },
  {
   "cell_type": "markdown",
   "id": "33ba453f",
   "metadata": {},
   "source": [
    "### Test"
   ]
  },
  {
   "cell_type": "code",
   "execution_count": 376,
   "id": "8a18cfe6",
   "metadata": {},
   "outputs": [
    {
     "data": {
      "text/plain": [
       "Index(['tweet_id', 'jpg_url', 'img_num', 'dog_breed', 'conf'], dtype='object')"
      ]
     },
     "execution_count": 376,
     "metadata": {},
     "output_type": "execute_result"
    }
   ],
   "source": [
    "image_pred_clean.columns"
   ]
  },
  {
   "cell_type": "code",
   "execution_count": 377,
   "id": "4a244c77",
   "metadata": {},
   "outputs": [
    {
     "data": {
      "text/plain": [
       "(0    Welsh_springer_spaniel\n",
       " 1                   redbone\n",
       " 2           German_shepherd\n",
       " 3       Rhodesian_ridgeback\n",
       " 4        miniature_pinscher\n",
       " Name: dog_breed, dtype: object,\n",
       " 0    0.465074\n",
       " 1    0.506826\n",
       " 2    0.596461\n",
       " 3    0.408143\n",
       " 4    0.560311\n",
       " Name: conf, dtype: object)"
      ]
     },
     "execution_count": 377,
     "metadata": {},
     "output_type": "execute_result"
    }
   ],
   "source": [
    "image_pred_clean.dog_breed.head(), image_pred_clean.conf.head()"
   ]
  },
  {
   "cell_type": "code",
   "execution_count": 378,
   "id": "9b6beadb",
   "metadata": {},
   "outputs": [
    {
     "data": {
      "text/plain": [
       "5"
      ]
     },
     "execution_count": 378,
     "metadata": {},
     "output_type": "execute_result"
    }
   ],
   "source": [
    "image_pred_clean.shape[1]"
   ]
  },
  {
   "cell_type": "markdown",
   "id": "91490b75",
   "metadata": {},
   "source": [
    "`twitter_archive` dataset"
   ]
  },
  {
   "cell_type": "markdown",
   "id": "d673acca",
   "metadata": {},
   "source": [
    "### Issue #2: The 'dog_stage' are in separate columns (doggo, floofer, pupper,puppo)\n",
    "\n"
   ]
  },
  {
   "cell_type": "markdown",
   "id": "c83be9bd",
   "metadata": {},
   "source": [
    "Here, we want to reshape the table, so that the various dog stages doggo, pupper, puppo, and floofer will be in one column named dog_stage."
   ]
  },
  {
   "cell_type": "markdown",
   "id": "2a11cd34",
   "metadata": {},
   "source": [
    "### Define"
   ]
  },
  {
   "cell_type": "markdown",
   "id": "f90939e3",
   "metadata": {},
   "source": [
    "- Extract the 'dog stage' from the `text` column into `dog_stage`\n",
    "- Drop the columns that are no longer needed"
   ]
  },
  {
   "cell_type": "markdown",
   "id": "3acc2dc2",
   "metadata": {},
   "source": [
    "### Code"
   ]
  },
  {
   "cell_type": "code",
   "execution_count": 379,
   "id": "52e246a6",
   "metadata": {},
   "outputs": [],
   "source": [
    "# Using regular expression to extract 'dog stage'\n",
    "twitter_archive_clean[\"dog_class\"] = twitter_archive_clean['text'].str.extract(r'(\\bpuppo\\b|\\bdoggo\\b|\\bfloofer\\b|\\bpupper\\b)', expand = True) \n",
    "\n",
    "# Dropping the the columns that are not needed columns\n",
    "twitter_archive_clean.drop(columns=['doggo', 'floofer', 'pupper', 'puppo'], inplace=True)"
   ]
  },
  {
   "cell_type": "markdown",
   "id": "1d167d86",
   "metadata": {},
   "source": [
    "### Test"
   ]
  },
  {
   "cell_type": "code",
   "execution_count": 380,
   "id": "aaa04643",
   "metadata": {},
   "outputs": [
    {
     "data": {
      "text/plain": [
       "pupper     241\n",
       "doggo       83\n",
       "puppo       29\n",
       "floofer      4\n",
       "Name: dog_class, dtype: int64"
      ]
     },
     "execution_count": 380,
     "metadata": {},
     "output_type": "execute_result"
    }
   ],
   "source": [
    "twitter_archive_clean.dog_class.value_counts()"
   ]
  },
  {
   "cell_type": "code",
   "execution_count": 381,
   "id": "2b5c5e95",
   "metadata": {},
   "outputs": [
    {
     "data": {
      "text/plain": [
       "(Index(['tweet_id', 'in_reply_to_status_id', 'in_reply_to_user_id', 'timestamp',\n",
       "        'source', 'text', 'retweeted_status_id', 'retweeted_status_user_id',\n",
       "        'retweeted_status_timestamp', 'expanded_urls', 'rating_numerator',\n",
       "        'rating_denominator', 'name', 'dog_class'],\n",
       "       dtype='object'),\n",
       " (2356, 14))"
      ]
     },
     "execution_count": 381,
     "metadata": {},
     "output_type": "execute_result"
    }
   ],
   "source": [
    "twitter_archive_clean.columns, twitter_archive_clean.shape"
   ]
  },
  {
   "cell_type": "markdown",
   "id": "c0d833d8",
   "metadata": {},
   "source": [
    "### Quality Issues"
   ]
  },
  {
   "cell_type": "markdown",
   "id": "f7d2341d",
   "metadata": {},
   "source": [
    "`twitter_archive` dataset"
   ]
  },
  {
   "cell_type": "markdown",
   "id": "71ceeb20",
   "metadata": {},
   "source": [
    "### Issue #3: Erroneous datatype (timestamp)"
   ]
  },
  {
   "cell_type": "markdown",
   "id": "4d98d9ca",
   "metadata": {},
   "source": [
    "### Define"
   ]
  },
  {
   "cell_type": "markdown",
   "id": "5ea19c3d",
   "metadata": {},
   "source": [
    "- Convert the `timestamp` column to `datetime` datatype"
   ]
  },
  {
   "cell_type": "markdown",
   "id": "9d9537f2",
   "metadata": {},
   "source": [
    "### Code"
   ]
  },
  {
   "cell_type": "code",
   "execution_count": 382,
   "id": "f8e1bb87",
   "metadata": {},
   "outputs": [],
   "source": [
    "# converting to datetime\n",
    "twitter_archive_clean[\"timestamp\"] = pd.to_datetime(twitter_archive_clean.timestamp, format=\"%Y-%m-%d %H:%M:%S\")"
   ]
  },
  {
   "cell_type": "markdown",
   "id": "7e9a4044",
   "metadata": {},
   "source": [
    "### Test"
   ]
  },
  {
   "cell_type": "code",
   "execution_count": 383,
   "id": "31a31da4",
   "metadata": {
    "scrolled": true
   },
   "outputs": [
    {
     "name": "stdout",
     "output_type": "stream",
     "text": [
      "<class 'pandas.core.frame.DataFrame'>\n",
      "RangeIndex: 2356 entries, 0 to 2355\n",
      "Data columns (total 14 columns):\n",
      " #   Column                      Non-Null Count  Dtype              \n",
      "---  ------                      --------------  -----              \n",
      " 0   tweet_id                    2356 non-null   int64              \n",
      " 1   in_reply_to_status_id       78 non-null     float64            \n",
      " 2   in_reply_to_user_id         78 non-null     float64            \n",
      " 3   timestamp                   2356 non-null   datetime64[ns, UTC]\n",
      " 4   source                      2356 non-null   object             \n",
      " 5   text                        2356 non-null   object             \n",
      " 6   retweeted_status_id         181 non-null    float64            \n",
      " 7   retweeted_status_user_id    181 non-null    float64            \n",
      " 8   retweeted_status_timestamp  181 non-null    object             \n",
      " 9   expanded_urls               2297 non-null   object             \n",
      " 10  rating_numerator            2356 non-null   int64              \n",
      " 11  rating_denominator          2356 non-null   int64              \n",
      " 12  name                        2356 non-null   object             \n",
      " 13  dog_class                   357 non-null    object             \n",
      "dtypes: datetime64[ns, UTC](1), float64(4), int64(3), object(6)\n",
      "memory usage: 257.8+ KB\n"
     ]
    }
   ],
   "source": [
    "twitter_archive_clean.info()"
   ]
  },
  {
   "cell_type": "code",
   "execution_count": 384,
   "id": "074e78a8",
   "metadata": {},
   "outputs": [
    {
     "data": {
      "text/plain": [
       "datetime64[ns, UTC]"
      ]
     },
     "execution_count": 384,
     "metadata": {},
     "output_type": "execute_result"
    }
   ],
   "source": [
    "twitter_archive_clean.timestamp.dtype"
   ]
  },
  {
   "cell_type": "markdown",
   "id": "02fad039",
   "metadata": {},
   "source": [
    "### Issue #4: Only original tweets should be in the dataset (no retweets)\n"
   ]
  },
  {
   "cell_type": "markdown",
   "id": "14ea4246",
   "metadata": {},
   "source": [
    "In the order to do this, we need to filter the dataset for rows where the `in_reply_to_status_id` and `in_reply_to_user_id` is not `null`"
   ]
  },
  {
   "cell_type": "markdown",
   "id": "093ee410",
   "metadata": {},
   "source": [
    "### Define "
   ]
  },
  {
   "cell_type": "markdown",
   "id": "fc8795d8",
   "metadata": {},
   "source": [
    "- Filter the dataset to remove rows where `in_reply_to_status_id` and `in_reply_to_user_id` is not `null"
   ]
  },
  {
   "cell_type": "markdown",
   "id": "a12357d6",
   "metadata": {},
   "source": [
    "### Code"
   ]
  },
  {
   "cell_type": "code",
   "execution_count": 385,
   "id": "04261897",
   "metadata": {},
   "outputs": [],
   "source": [
    "# removing the rows that are retweets\n",
    "mask = (twitter_archive_clean.in_reply_to_status_id.notnull()) & (twitter_archive_clean.in_reply_to_user_id.notnull())\n",
    "original_tweets = twitter_archive_clean[mask]\n",
    "twitter_archive_clean.drop(index=original_tweets.index, inplace=True)"
   ]
  },
  {
   "cell_type": "markdown",
   "id": "4d939514",
   "metadata": {},
   "source": [
    "### Test"
   ]
  },
  {
   "cell_type": "code",
   "execution_count": 386,
   "id": "493bf6f6",
   "metadata": {},
   "outputs": [
    {
     "name": "stderr",
     "output_type": "stream",
     "text": [
      "C:\\Users\\Russell\\AppData\\Local\\Temp\\ipykernel_7876\\4132267009.py:1: UserWarning: Boolean Series key will be reindexed to match DataFrame index.\n",
      "  twitter_archive_clean[mask]\n"
     ]
    },
    {
     "data": {
      "text/html": [
       "<div>\n",
       "<style scoped>\n",
       "    .dataframe tbody tr th:only-of-type {\n",
       "        vertical-align: middle;\n",
       "    }\n",
       "\n",
       "    .dataframe tbody tr th {\n",
       "        vertical-align: top;\n",
       "    }\n",
       "\n",
       "    .dataframe thead th {\n",
       "        text-align: right;\n",
       "    }\n",
       "</style>\n",
       "<table border=\"1\" class=\"dataframe\">\n",
       "  <thead>\n",
       "    <tr style=\"text-align: right;\">\n",
       "      <th></th>\n",
       "      <th>tweet_id</th>\n",
       "      <th>in_reply_to_status_id</th>\n",
       "      <th>in_reply_to_user_id</th>\n",
       "      <th>timestamp</th>\n",
       "      <th>source</th>\n",
       "      <th>text</th>\n",
       "      <th>retweeted_status_id</th>\n",
       "      <th>retweeted_status_user_id</th>\n",
       "      <th>retweeted_status_timestamp</th>\n",
       "      <th>expanded_urls</th>\n",
       "      <th>rating_numerator</th>\n",
       "      <th>rating_denominator</th>\n",
       "      <th>name</th>\n",
       "      <th>dog_class</th>\n",
       "    </tr>\n",
       "  </thead>\n",
       "  <tbody>\n",
       "  </tbody>\n",
       "</table>\n",
       "</div>"
      ],
      "text/plain": [
       "Empty DataFrame\n",
       "Columns: [tweet_id, in_reply_to_status_id, in_reply_to_user_id, timestamp, source, text, retweeted_status_id, retweeted_status_user_id, retweeted_status_timestamp, expanded_urls, rating_numerator, rating_denominator, name, dog_class]\n",
       "Index: []"
      ]
     },
     "execution_count": 386,
     "metadata": {},
     "output_type": "execute_result"
    }
   ],
   "source": [
    "twitter_archive_clean[mask]"
   ]
  },
  {
   "cell_type": "code",
   "execution_count": 387,
   "id": "015d9d66",
   "metadata": {},
   "outputs": [
    {
     "name": "stderr",
     "output_type": "stream",
     "text": [
      "C:\\Users\\Russell\\AppData\\Local\\Temp\\ipykernel_7876\\1718536541.py:1: UserWarning: Boolean Series key will be reindexed to match DataFrame index.\n",
      "  twitter_archive_clean[mask].shape\n"
     ]
    },
    {
     "data": {
      "text/plain": [
       "(0, 14)"
      ]
     },
     "execution_count": 387,
     "metadata": {},
     "output_type": "execute_result"
    }
   ],
   "source": [
    "twitter_archive_clean[mask].shape"
   ]
  },
  {
   "cell_type": "markdown",
   "id": "fb30ecb8",
   "metadata": {},
   "source": [
    "### Issue #5:  Incorrect names like 'an', 'a', 'the', 'light', 'old'"
   ]
  },
  {
   "cell_type": "markdown",
   "id": "462c4740",
   "metadata": {},
   "source": [
    "Note: It seems that the incorrect names are in lower case, and the names that could not be identified are represented as `None`"
   ]
  },
  {
   "cell_type": "markdown",
   "id": "5b265876",
   "metadata": {},
   "source": [
    "### Define"
   ]
  },
  {
   "cell_type": "markdown",
   "id": "ce3fd5e7",
   "metadata": {},
   "source": [
    "- Replace the incorrect names, as well as the ones represented as `None`  with `NaN`'s"
   ]
  },
  {
   "cell_type": "markdown",
   "id": "f8ebd154",
   "metadata": {},
   "source": [
    "### Code"
   ]
  },
  {
   "cell_type": "code",
   "execution_count": 388,
   "id": "eca2d1d1",
   "metadata": {},
   "outputs": [],
   "source": [
    "# Replacing the incorrect names\n",
    "mask = twitter_archive_clean.name.str.islower()\n",
    "l_case = twitter_archive_clean[mask]\n",
    "twitter_archive_clean.loc[l_case.index, \"name\"] = np.nan\n",
    "\n",
    "#Replacing the 'None' values with 'Nan's\n",
    "twitter_archive_clean.name.replace(\"None\", np.nan, inplace=True)"
   ]
  },
  {
   "cell_type": "markdown",
   "id": "76eedce8",
   "metadata": {},
   "source": [
    "### Test"
   ]
  },
  {
   "cell_type": "code",
   "execution_count": 389,
   "id": "cedc5de9",
   "metadata": {},
   "outputs": [
    {
     "data": {
      "text/plain": [
       "Charlie       12\n",
       "Lucy          11\n",
       "Cooper        11\n",
       "Oliver        11\n",
       "Lola          10\n",
       "              ..\n",
       "Devón          1\n",
       "Gert           1\n",
       "Dex            1\n",
       "Ace            1\n",
       "Christoper     1\n",
       "Name: name, Length: 930, dtype: int64"
      ]
     },
     "execution_count": 389,
     "metadata": {},
     "output_type": "execute_result"
    }
   ],
   "source": [
    "twitter_archive_clean.name.value_counts()"
   ]
  },
  {
   "cell_type": "markdown",
   "id": "9c7b1358",
   "metadata": {},
   "source": [
    "### Issue #6:   In the `text` column, the text has the tweet link at the of the text (should only have the text)"
   ]
  },
  {
   "cell_type": "markdown",
   "id": "df060f88",
   "metadata": {},
   "source": [
    "As was identified during the `assess` stage of the data wrangling process, the link is at the end of the text."
   ]
  },
  {
   "cell_type": "markdown",
   "id": "7d2bb09a",
   "metadata": {},
   "source": [
    "### Define"
   ]
  },
  {
   "cell_type": "markdown",
   "id": "b0d91110",
   "metadata": {},
   "source": [
    "- Identify the `Regex` pattern\n",
    "- Replace the link with an empty string and remove any trailing spaces"
   ]
  },
  {
   "cell_type": "markdown",
   "id": "ba28b994",
   "metadata": {},
   "source": [
    "### Code"
   ]
  },
  {
   "cell_type": "code",
   "execution_count": 390,
   "id": "1e66698a",
   "metadata": {},
   "outputs": [
    {
     "data": {
      "text/plain": [
       "\"When you watch your owner call another dog a good boy but then they turn back to you and say you're a great boy. 13/10 https://t.co/v0nONBcwxq\""
      ]
     },
     "execution_count": 390,
     "metadata": {},
     "output_type": "execute_result"
    }
   ],
   "source": [
    "# Identifying the regex pattern\n",
    "twitter_archive_clean.text[7]"
   ]
  },
  {
   "cell_type": "code",
   "execution_count": 391,
   "id": "f26c6086",
   "metadata": {},
   "outputs": [],
   "source": [
    "# Replacing the link with empty string\n",
    "twitter_archive_clean.text = twitter_archive_clean.text.str.replace(\"(https://[\\w\\/\\.]+$)\", \"\", regex=True)\n",
    "\n",
    "# removing trailing spaces\n",
    "twitter_archive_clean.text = twitter_archive_clean.text.str.strip()"
   ]
  },
  {
   "cell_type": "markdown",
   "id": "5b2319db",
   "metadata": {},
   "source": [
    "### Test"
   ]
  },
  {
   "cell_type": "code",
   "execution_count": 392,
   "id": "6921b12d",
   "metadata": {},
   "outputs": [
    {
     "data": {
      "text/plain": [
       "\"When you watch your owner call another dog a good boy but then they turn back to you and say you're a great boy. 13/10\""
      ]
     },
     "execution_count": 392,
     "metadata": {},
     "output_type": "execute_result"
    }
   ],
   "source": [
    "twitter_archive_clean.text[7]"
   ]
  },
  {
   "cell_type": "code",
   "execution_count": 393,
   "id": "f6e0c704",
   "metadata": {},
   "outputs": [
    {
     "name": "stderr",
     "output_type": "stream",
     "text": [
      "C:\\Users\\Russell\\AppData\\Local\\Temp\\ipykernel_7876\\993867916.py:1: UserWarning: This pattern is interpreted as a regular expression, and has match groups. To actually get the groups, use str.extract.\n",
      "  twitter_archive_clean.text.str.contains(\"(https://[\\w\\/\\.]+$)\", regex=True)\n"
     ]
    },
    {
     "data": {
      "text/plain": [
       "0       False\n",
       "1       False\n",
       "2       False\n",
       "3       False\n",
       "4       False\n",
       "        ...  \n",
       "2351    False\n",
       "2352    False\n",
       "2353    False\n",
       "2354    False\n",
       "2355    False\n",
       "Name: text, Length: 2278, dtype: bool"
      ]
     },
     "execution_count": 393,
     "metadata": {},
     "output_type": "execute_result"
    }
   ],
   "source": [
    "twitter_archive_clean.text.str.contains(\"(https://[\\w\\/\\.]+$)\", regex=True)"
   ]
  },
  {
   "cell_type": "markdown",
   "id": "2fef4462",
   "metadata": {},
   "source": [
    "### Issue #7: The `source` column should have only the `HTML` content (without the tags)\n"
   ]
  },
  {
   "cell_type": "markdown",
   "id": "ffd3a3f1",
   "metadata": {},
   "source": [
    "I will still use `Regex` to extract the HTML content"
   ]
  },
  {
   "cell_type": "markdown",
   "id": "79667da3",
   "metadata": {},
   "source": [
    "### Define"
   ]
  },
  {
   "cell_type": "markdown",
   "id": "3866f92f",
   "metadata": {},
   "source": [
    "- Check the `source` column to identify the `Regex` pattern\n",
    "- Extract the source content from the tags"
   ]
  },
  {
   "cell_type": "markdown",
   "id": "9cb325b2",
   "metadata": {},
   "source": [
    "### Code"
   ]
  },
  {
   "cell_type": "code",
   "execution_count": 394,
   "id": "61da7526",
   "metadata": {},
   "outputs": [
    {
     "data": {
      "text/plain": [
       "'<a href=\"http://twitter.com/download/iphone\" rel=\"nofollow\">Twitter for iPhone</a>'"
      ]
     },
     "execution_count": 394,
     "metadata": {},
     "output_type": "execute_result"
    }
   ],
   "source": [
    "# checking the source column\n",
    "twitter_archive_clean.source[6]"
   ]
  },
  {
   "cell_type": "code",
   "execution_count": 395,
   "id": "8fefac18",
   "metadata": {},
   "outputs": [],
   "source": [
    "# extracting the source content from the html tags\n",
    "twitter_archive_clean['source'] = twitter_archive_clean.source.str.extract(\"\\>(.*?)\\<\", expand = True)"
   ]
  },
  {
   "cell_type": "markdown",
   "id": "53420ac8",
   "metadata": {},
   "source": [
    "### Test"
   ]
  },
  {
   "cell_type": "code",
   "execution_count": 396,
   "id": "991bcb3d",
   "metadata": {
    "scrolled": true
   },
   "outputs": [
    {
     "data": {
      "text/plain": [
       "'Twitter for iPhone'"
      ]
     },
     "execution_count": 396,
     "metadata": {},
     "output_type": "execute_result"
    }
   ],
   "source": [
    "twitter_archive_clean.source[7]"
   ]
  },
  {
   "cell_type": "markdown",
   "id": "b299edf4",
   "metadata": {},
   "source": [
    "### Issue #8: - There are features that are not needed like `retweeted_status_id`, `retweeted_status_user_id`, `retweeted_status_timestamp`, etc\n",
    "\n"
   ]
  },
  {
   "cell_type": "markdown",
   "id": "28c7fe36",
   "metadata": {},
   "source": [
    "### Define"
   ]
  },
  {
   "cell_type": "markdown",
   "id": "37a31237",
   "metadata": {},
   "source": [
    "- Remove the columns that are no longer needed like `retweeted_status_id`, `retweeted_status_user_id`, `retweeted_status_timestamp`, etc"
   ]
  },
  {
   "cell_type": "markdown",
   "id": "32f42908",
   "metadata": {},
   "source": [
    "### Code"
   ]
  },
  {
   "cell_type": "code",
   "execution_count": 397,
   "id": "213f1bff",
   "metadata": {},
   "outputs": [],
   "source": [
    "# Removing the columns that are not needed\n",
    "cols_drop = [\"retweeted_status_id\", \"retweeted_status_user_id\", \"retweeted_status_timestamp\", \"in_reply_to_status_id\", \"in_reply_to_user_id\"]\n",
    "twitter_archive_clean.drop(columns=cols_drop, inplace=True)"
   ]
  },
  {
   "cell_type": "markdown",
   "id": "583cf529",
   "metadata": {},
   "source": [
    "### Test"
   ]
  },
  {
   "cell_type": "code",
   "execution_count": 398,
   "id": "bb77e2fa",
   "metadata": {},
   "outputs": [
    {
     "data": {
      "text/plain": [
       "Index(['tweet_id', 'timestamp', 'source', 'text', 'expanded_urls',\n",
       "       'rating_numerator', 'rating_denominator', 'name', 'dog_class'],\n",
       "      dtype='object')"
      ]
     },
     "execution_count": 398,
     "metadata": {},
     "output_type": "execute_result"
    }
   ],
   "source": [
    "twitter_archive_clean.columns"
   ]
  },
  {
   "cell_type": "markdown",
   "id": "48f3c442",
   "metadata": {},
   "source": [
    "### Issue #9: - Incorrect numerator and denominator ratings\n"
   ]
  },
  {
   "cell_type": "markdown",
   "id": "f6bdc884",
   "metadata": {},
   "source": [
    "`image_pred` dataset"
   ]
  },
  {
   "cell_type": "markdown",
   "id": "24b17434",
   "metadata": {},
   "source": [
    "### Define"
   ]
  },
  {
   "cell_type": "markdown",
   "id": "1cb21d9e",
   "metadata": {},
   "source": [
    "- Find all instances of ratings in the `text` column\n",
    "- Split ratings found into different columns\n",
    "- Select the latest rating \n",
    "- Remove trailing period (.)\n",
    "- Split the ratings into `num` and `den` columns\n",
    "- Replace the values in `den` to `10` where the values are not \n",
    "- Replace the values in `num` with the `mean` where the values are greater than `20`\n",
    "- Replace the columns `ratings_numerator` and `ratings_denominator with `num` and `den` respectively\n",
    "- Drop unnecessary columns\n"
   ]
  },
  {
   "cell_type": "markdown",
   "id": "0fdadbec",
   "metadata": {},
   "source": [
    "### Code"
   ]
  },
  {
   "cell_type": "code",
   "execution_count": 399,
   "id": "bbcb2cc4",
   "metadata": {},
   "outputs": [],
   "source": [
    "# Find ratings in the text\n",
    "twitter_archive_clean['ratings'] = twitter_archive_clean.text.str.findall(r\"\\d*\\.?\\d+\\/\\d+\").str.join(',')\n",
    "twitter_archive_clean[['first', 'second', 'third']] = twitter_archive_clean.ratings.str.split(',', expand=True)\n",
    "\n",
    "# resetting index\n",
    "twitter_archive_clean.reset_index(inplace=True)\n",
    "\n",
    "\n",
    "# Create boolean columns to select the latest ratings\n",
    "twitter_archive_clean[\"is_first\"] = twitter_archive_clean[\"first\"].apply(lambda x: True if x else False)\n",
    "twitter_archive_clean[\"is_second\"] = twitter_archive_clean[\"second\"].apply(lambda x: True if x else False)\n",
    "twitter_archive_clean[\"is_third\"] = twitter_archive_clean[\"third\"].apply(lambda x: True if x else False)\n",
    "\n",
    "# Select the latest ratings\n",
    "cols = [\"is_third\", \"third\", \"is_second\", \"second\", \"first\", \"ratings\"]\n",
    "twitter_archive_clean[\"ratings\"] = twitter_archive_clean[cols].apply(condition, axis=1)\n",
    "\n",
    "# Removing the trailing spaces\n",
    "twitter_archive_clean.ratings = twitter_archive_clean.ratings.str.strip('.')\n",
    "twitter_archive_clean[['num', 'den']] = np.round(twitter_archive_clean['ratings'].str.split('/', n=1, expand=True).astype(float)).astype(int)\n"
   ]
  },
  {
   "cell_type": "code",
   "execution_count": 400,
   "id": "1ba11b4e",
   "metadata": {},
   "outputs": [],
   "source": [
    "# assigning the right values to denominator\n",
    "mask_den = twitter_archive_clean.den != 10\n",
    "twitter_archive_clean.loc[mask_den, \"den\"] = 10\n",
    "\n",
    "# assigning the right values to numerator\n",
    "#mask_num = twitter_archive_clean.num > 20\n",
    "#twitter_archive_clean.loc[mask_num, \"num\"] = int(np.mean(twitter_archive_clean.num))\n",
    "\n",
    "# Assigning the right values to rating_numerator and rating_denominator\n",
    "twitter_archive_clean[\"rating_numerator\"] = twitter_archive_clean.num\n",
    "twitter_archive_clean[\"rating_denominator\"] = twitter_archive_clean.den\n",
    "\n",
    "# Drop unnecessary columns\n",
    "cols_drop = [\"first\", \"is_first\", \"second\", \"is_second\", \"third\", \"is_third\", \"num\", \"den\", \"index\"]\n",
    "twitter_archive_clean.drop(columns=cols_drop, axis=1, inplace=True)\n"
   ]
  },
  {
   "cell_type": "markdown",
   "id": "11487a0f",
   "metadata": {},
   "source": [
    "### Test"
   ]
  },
  {
   "cell_type": "code",
   "execution_count": 401,
   "id": "52ff34b2",
   "metadata": {},
   "outputs": [
    {
     "data": {
      "text/plain": [
       "Index(['tweet_id', 'timestamp', 'source', 'text', 'expanded_urls',\n",
       "       'rating_numerator', 'rating_denominator', 'name', 'dog_class',\n",
       "       'ratings'],\n",
       "      dtype='object')"
      ]
     },
     "execution_count": 401,
     "metadata": {},
     "output_type": "execute_result"
    }
   ],
   "source": [
    "twitter_archive_clean.columns"
   ]
  },
  {
   "cell_type": "code",
   "execution_count": 402,
   "id": "6ce4797f",
   "metadata": {},
   "outputs": [
    {
     "data": {
      "text/plain": [
       "(array([  13,   12,   14,   11,   10,    6,   15,    0,   84,    7,    9,\n",
       "          24,    8,    1,    5,    3,    4,  165, 1776,  204,   99,   80,\n",
       "          45,   60,    2,   44,  121,  144,   88,  420]),\n",
       " array([10]))"
      ]
     },
     "execution_count": 402,
     "metadata": {},
     "output_type": "execute_result"
    }
   ],
   "source": [
    "twitter_archive_clean.rating_numerator.unique(), twitter_archive_clean.rating_denominator.unique()"
   ]
  },
  {
   "cell_type": "markdown",
   "id": "132e33ee",
   "metadata": {},
   "source": [
    "### Issue #10: The names of Dog breeds is not standardized (the names are are not in title case)"
   ]
  },
  {
   "cell_type": "markdown",
   "id": "1913af3b",
   "metadata": {},
   "source": [
    "### Define"
   ]
  },
  {
   "cell_type": "markdown",
   "id": "7a71cc44",
   "metadata": {},
   "source": [
    "- Change all dog breed names to titlecase"
   ]
  },
  {
   "cell_type": "markdown",
   "id": "e837a8da",
   "metadata": {},
   "source": [
    "### Code"
   ]
  },
  {
   "cell_type": "code",
   "execution_count": 403,
   "id": "38cd8d86",
   "metadata": {},
   "outputs": [],
   "source": [
    "#Changing to titlecase\n",
    "image_pred_clean[\"dog_breed\"] = image_pred_clean.dog_breed.str.title()"
   ]
  },
  {
   "cell_type": "markdown",
   "id": "99b1714c",
   "metadata": {},
   "source": [
    "### Test"
   ]
  },
  {
   "cell_type": "code",
   "execution_count": 404,
   "id": "5e830015",
   "metadata": {
    "scrolled": true
   },
   "outputs": [
    {
     "data": {
      "text/plain": [
       "1035      Lakeland_Terrier\n",
       "1386               Redbone\n",
       "1575      Golden_Retriever\n",
       "1512      Golden_Retriever\n",
       "494     Standard_Schnauzer\n",
       "Name: dog_breed, dtype: object"
      ]
     },
     "execution_count": 404,
     "metadata": {},
     "output_type": "execute_result"
    }
   ],
   "source": [
    "image_pred_clean.dog_breed.sample(5)"
   ]
  },
  {
   "cell_type": "markdown",
   "id": "b8c45e36",
   "metadata": {},
   "source": [
    "Before merging the datasets, I will like to change the `tweet_id` column in the `twitter_archive_clean` and `image_pred_clean` dataset to `string` (object)"
   ]
  },
  {
   "cell_type": "code",
   "execution_count": 405,
   "id": "2ede5532",
   "metadata": {},
   "outputs": [],
   "source": [
    "twitter_archive_clean[\"tweet_id\"] = twitter_archive_clean.tweet_id.astype(str)\n",
    "image_pred_clean[\"tweet_id\"] = image_pred_clean.tweet_id.astype(str)"
   ]
  },
  {
   "cell_type": "markdown",
   "id": "aa0e9024",
   "metadata": {},
   "source": [
    "### Merging all Dataset"
   ]
  },
  {
   "cell_type": "code",
   "execution_count": 406,
   "id": "a9624046",
   "metadata": {},
   "outputs": [],
   "source": [
    "# Merging all the  dataset\n",
    "retweet_favorite_count_clean.tweet_id\n",
    "twitter_archive_master = twitter_archive_clean.merge(retweet_favorite_count_clean, on=\"tweet_id\", how=\"inner\").merge(image_pred_clean, on=\"tweet_id\", how=\"inner\")"
   ]
  },
  {
   "cell_type": "code",
   "execution_count": 407,
   "id": "fa95a08d",
   "metadata": {},
   "outputs": [
    {
     "data": {
      "text/plain": [
       "Index(['tweet_id', 'timestamp', 'source', 'text', 'expanded_urls',\n",
       "       'rating_numerator', 'rating_denominator', 'name', 'dog_class',\n",
       "       'ratings', 'favorite_count', 'retweet_count', 'jpg_url', 'img_num',\n",
       "       'dog_breed', 'conf'],\n",
       "      dtype='object')"
      ]
     },
     "execution_count": 407,
     "metadata": {},
     "output_type": "execute_result"
    }
   ],
   "source": [
    "twitter_archive_master.columns"
   ]
  },
  {
   "cell_type": "code",
   "execution_count": 408,
   "id": "bf62ed9b",
   "metadata": {
    "scrolled": true
   },
   "outputs": [
    {
     "data": {
      "text/plain": [
       "(2050, 16)"
      ]
     },
     "execution_count": 408,
     "metadata": {},
     "output_type": "execute_result"
    }
   ],
   "source": [
    "twitter_archive_master.shape"
   ]
  },
  {
   "cell_type": "markdown",
   "id": "50c2ccfb",
   "metadata": {},
   "source": [
    "<a id='storing'></a>\n",
    "## Storing Data"
   ]
  },
  {
   "cell_type": "markdown",
   "id": "5319f3fd",
   "metadata": {},
   "source": [
    "In this stage, we want to save the `twitter_archive_master` dataset as a `csv` file."
   ]
  },
  {
   "cell_type": "code",
   "execution_count": 409,
   "id": "9c961617",
   "metadata": {},
   "outputs": [],
   "source": [
    "# Saving as csv\n",
    "twitter_archive_master.to_csv(\"twitter_archive_master.csv\", index=False)"
   ]
  },
  {
   "cell_type": "markdown",
   "id": "5ef0c608",
   "metadata": {},
   "source": [
    "<a id='visualizing'></a>\n",
    "## Analyzing, and Visualizing Data"
   ]
  },
  {
   "cell_type": "markdown",
   "id": "3df871c6",
   "metadata": {},
   "source": [
    "In this stage we are going to use our cleaned dataset to get insights through analysis and visualizations. I will use some questions to answer this."
   ]
  },
  {
   "cell_type": "markdown",
   "id": "21e04121",
   "metadata": {},
   "source": [
    "###### 1. Which dog breed seem to have the highest rating?\n",
    "##### 2.  What is the most popular dog name?\n",
    "###### 3. What is most source of tweets?\n",
    "###### 4 What is the most occurring dog stage?"
   ]
  },
  {
   "cell_type": "markdown",
   "id": "6ce3b94f",
   "metadata": {},
   "source": [
    "Let make a copy of the master dataset"
   ]
  },
  {
   "cell_type": "code",
   "execution_count": 410,
   "id": "69153788",
   "metadata": {},
   "outputs": [],
   "source": [
    "# making a copy of the dataset\n",
    "twitter_master_df = twitter_archive_master.copy()\n"
   ]
  },
  {
   "cell_type": "markdown",
   "id": "d583a2ff",
   "metadata": {},
   "source": [
    "#### #1 Which dog breed seem to have the highest rating?"
   ]
  },
  {
   "cell_type": "code",
   "execution_count": 411,
   "id": "2d8e8c69",
   "metadata": {},
   "outputs": [
    {
     "data": {
      "text/html": [
       "<div>\n",
       "<style scoped>\n",
       "    .dataframe tbody tr th:only-of-type {\n",
       "        vertical-align: middle;\n",
       "    }\n",
       "\n",
       "    .dataframe tbody tr th {\n",
       "        vertical-align: top;\n",
       "    }\n",
       "\n",
       "    .dataframe thead th {\n",
       "        text-align: right;\n",
       "    }\n",
       "</style>\n",
       "<table border=\"1\" class=\"dataframe\">\n",
       "  <thead>\n",
       "    <tr style=\"text-align: right;\">\n",
       "      <th></th>\n",
       "      <th>dog_breed</th>\n",
       "      <th>rating_numerator</th>\n",
       "    </tr>\n",
       "  </thead>\n",
       "  <tbody>\n",
       "    <tr>\n",
       "      <th>4</th>\n",
       "      <td>Chow</td>\n",
       "      <td>14.039216</td>\n",
       "    </tr>\n",
       "    <tr>\n",
       "      <th>10</th>\n",
       "      <td>Labrador_Retriever</td>\n",
       "      <td>13.549550</td>\n",
       "    </tr>\n",
       "    <tr>\n",
       "      <th>9</th>\n",
       "      <td>Golden_Retriever</td>\n",
       "      <td>12.251462</td>\n",
       "    </tr>\n",
       "    <tr>\n",
       "      <th>16</th>\n",
       "      <td>Samoyed</td>\n",
       "      <td>11.717391</td>\n",
       "    </tr>\n",
       "    <tr>\n",
       "      <th>5</th>\n",
       "      <td>Cocker_Spaniel</td>\n",
       "      <td>11.411765</td>\n",
       "    </tr>\n",
       "    <tr>\n",
       "      <th>6</th>\n",
       "      <td>Eskimo_Dog</td>\n",
       "      <td>11.409091</td>\n",
       "    </tr>\n",
       "    <tr>\n",
       "      <th>13</th>\n",
       "      <td>Pembroke</td>\n",
       "      <td>11.382979</td>\n",
       "    </tr>\n",
       "    <tr>\n",
       "      <th>17</th>\n",
       "      <td>Siberian_Husky</td>\n",
       "      <td>11.300000</td>\n",
       "    </tr>\n",
       "    <tr>\n",
       "      <th>7</th>\n",
       "      <td>French_Bulldog</td>\n",
       "      <td>11.281250</td>\n",
       "    </tr>\n",
       "    <tr>\n",
       "      <th>1</th>\n",
       "      <td>Cardigan</td>\n",
       "      <td>11.173913</td>\n",
       "    </tr>\n",
       "    <tr>\n",
       "      <th>19</th>\n",
       "      <td>Toy_Poodle</td>\n",
       "      <td>11.019608</td>\n",
       "    </tr>\n",
       "    <tr>\n",
       "      <th>8</th>\n",
       "      <td>German_Shepherd</td>\n",
       "      <td>11.000000</td>\n",
       "    </tr>\n",
       "    <tr>\n",
       "      <th>11</th>\n",
       "      <td>Malamute</td>\n",
       "      <td>10.882353</td>\n",
       "    </tr>\n",
       "    <tr>\n",
       "      <th>18</th>\n",
       "      <td>Staffordshire_Bullterrier</td>\n",
       "      <td>10.857143</td>\n",
       "    </tr>\n",
       "    <tr>\n",
       "      <th>14</th>\n",
       "      <td>Pomeranian</td>\n",
       "      <td>10.658537</td>\n",
       "    </tr>\n",
       "    <tr>\n",
       "      <th>2</th>\n",
       "      <td>Chesapeake_Bay_Retriever</td>\n",
       "      <td>10.645161</td>\n",
       "    </tr>\n",
       "    <tr>\n",
       "      <th>3</th>\n",
       "      <td>Chihuahua</td>\n",
       "      <td>10.563830</td>\n",
       "    </tr>\n",
       "    <tr>\n",
       "      <th>15</th>\n",
       "      <td>Pug</td>\n",
       "      <td>10.307692</td>\n",
       "    </tr>\n",
       "    <tr>\n",
       "      <th>0</th>\n",
       "      <td>Beagle</td>\n",
       "      <td>10.238095</td>\n",
       "    </tr>\n",
       "    <tr>\n",
       "      <th>12</th>\n",
       "      <td>Miniature_Pinscher</td>\n",
       "      <td>10.120000</td>\n",
       "    </tr>\n",
       "  </tbody>\n",
       "</table>\n",
       "</div>"
      ],
      "text/plain": [
       "                    dog_breed  rating_numerator\n",
       "4                        Chow         14.039216\n",
       "10         Labrador_Retriever         13.549550\n",
       "9            Golden_Retriever         12.251462\n",
       "16                    Samoyed         11.717391\n",
       "5              Cocker_Spaniel         11.411765\n",
       "6                  Eskimo_Dog         11.409091\n",
       "13                   Pembroke         11.382979\n",
       "17             Siberian_Husky         11.300000\n",
       "7              French_Bulldog         11.281250\n",
       "1                    Cardigan         11.173913\n",
       "19                 Toy_Poodle         11.019608\n",
       "8             German_Shepherd         11.000000\n",
       "11                   Malamute         10.882353\n",
       "18  Staffordshire_Bullterrier         10.857143\n",
       "14                 Pomeranian         10.658537\n",
       "2    Chesapeake_Bay_Retriever         10.645161\n",
       "3                   Chihuahua         10.563830\n",
       "15                        Pug         10.307692\n",
       "0                      Beagle         10.238095\n",
       "12         Miniature_Pinscher         10.120000"
      ]
     },
     "execution_count": 411,
     "metadata": {},
     "output_type": "execute_result"
    }
   ],
   "source": [
    "# getting the top most occuring dog breed\n",
    "top_dog_breed_count = twitter_master_df.dog_breed.value_counts()[:20]\n",
    "top_dog_breed = twitter_master_df[twitter_master_df.dog_breed.isin(top_dog_breed_count.index)]\n",
    "\n",
    "# Group the genres\n",
    "top_dog_breed_group = top_dog_breed.groupby(\"dog_breed\")\n",
    "\n",
    "# computing the mean, resetting the index and sorting by ratings\n",
    "dog_breed_ratings = top_dog_breed_group.rating_numerator.mean().reset_index().sort_values(\"rating_numerator\", ascending=False)\n",
    "dog_breed_ratings"
   ]
  },
  {
   "cell_type": "markdown",
   "id": "5108843d",
   "metadata": {},
   "source": [
    "#### We want to create a custom function to help us with our visualizations."
   ]
  },
  {
   "cell_type": "code",
   "execution_count": 412,
   "id": "6774cabe",
   "metadata": {},
   "outputs": [],
   "source": [
    "def custom_plot(df, col, title, xlabel, ylabel, figsize=(16, 8), add_mean=False, \n",
    "    plot_type=\"line\", xticks=\"Keep_original\", legend:list=[],\n",
    "    legend_loc=\"upper left\", *plot_args, **plot_kwargs):\n",
    "    plt.clf()\n",
    "    fig, ax = plt.subplots(figsize=figsize)\n",
    "\n",
    "    # setting up the graph\n",
    "    length = df.shape[0]\n",
    "    x_tick_points = np.linspace(1, length, length)\n",
    "\n",
    "    # getting the plot type\n",
    "    function = ax.plot if plot_type == 'line' else ax.bar\n",
    "\n",
    "    # getting the bar's width\n",
    "    bar_width = plot_kwargs.get('width', 0)\n",
    "\n",
    "    # drawing the graph\n",
    "    if type(col) in [str, tuple, int]:\n",
    "        function(x_tick_points, df[col], **plot_kwargs)\n",
    "    elif type(col) == list:\n",
    "        for idx, column in enumerate(col):\n",
    "            function(x_tick_points + idx * bar_width, df[column], **plot_kwargs)\n",
    "    if add_mean:\n",
    "        mean_value = round(df[col].mean(), 2)\n",
    "        ax.plot(x_tick_points, np.repeat(mean_value, length), \"--\")\n",
    "\n",
    "    x_tick_position = 0\n",
    "    if plot_type == \"bar\" and type(col) == list:\n",
    "        bar_width = bar_width or 0.6\n",
    "        x_tick_position = bar_width * ((len(columns) - 1) / 2)\n",
    "\n",
    "    if add_mean and not legend:\n",
    "        # Changing column names to legend lists\n",
    "        columns = [col] if type(col) in [str, int, tuple] else columns\n",
    "        columns = [' '.join(str(column).split('_')).title() for column in columns]\n",
    "        legend += columns\n",
    "        legend.append(\"Mean\")\n",
    "    elif len(legend) and add_mean:\n",
    "        legend.append(\"Mean\")\n",
    "\n",
    "    if len(legend):\n",
    "        plt.legend(legend, loc=legend_loc, fontsize=12)\n",
    "\n",
    "    legend.clear()\n",
    "    plt.title(title, fontsize=18)\n",
    "    plt.xlabel(xlabel, fontsize=16)\n",
    "    plt.ylabel(ylabel, fontsize=16)\n",
    "    plt.xticks(x_tick_points + x_tick_position, df[xticks], rotation=45, horizontalalignment='right');"
   ]
  },
  {
   "cell_type": "markdown",
   "id": "df1c17ec",
   "metadata": {},
   "source": [
    "We want to now plot the `dog_breed_ratings` dataframe to visualize it."
   ]
  },
  {
   "cell_type": "code",
   "execution_count": 413,
   "id": "c7369621",
   "metadata": {},
   "outputs": [
    {
     "data": {
      "text/plain": [
       "<Figure size 432x288 with 0 Axes>"
      ]
     },
     "metadata": {},
     "output_type": "display_data"
    },
    {
     "data": {
      "image/png": "[encoded data removed]",
      "text/plain": [
       "<Figure size 1152x576 with 1 Axes>"
      ]
     },
     "metadata": {
      "needs_background": "light"
     },
     "output_type": "display_data"
    }
   ],
   "source": [
    "# we call the custom_plot function to plot the graph\n",
    "custom_plot(dog_breed_ratings, \"rating_numerator\", \"Ratings of Dog Breeds\", \"Dog Breeds\", \"Mean Ratings of Dog Breeds\", xticks=\"dog_breed\", plot_type=\"bar\");"
   ]
  },
  {
   "cell_type": "markdown",
   "id": "31e7eef5",
   "metadata": {},
   "source": [
    "The dog_breed that has the highest average rating is chow rating is `Chow`."
   ]
  },
  {
   "cell_type": "markdown",
   "id": "4c7467ab",
   "metadata": {},
   "source": [
    "#### #2 What is the most popular dog name?\n"
   ]
  },
  {
   "cell_type": "code",
   "execution_count": 414,
   "id": "a26044ec",
   "metadata": {},
   "outputs": [
    {
     "data": {
      "text/plain": [
       "Charlie    11\n",
       "Cooper     10\n",
       "Lucy       10\n",
       "Tucker     10\n",
       "Oliver     10\n",
       "Penny      10\n",
       "Sadie       8\n",
       "Bo          8\n",
       "Winston     8\n",
       "Lola        8\n",
       "Toby        7\n",
       "Daisy       7\n",
       "Jax         6\n",
       "Dave        6\n",
       "Scout       6\n",
       "Bella       6\n",
       "Milo        6\n",
       "Bailey      6\n",
       "Stanley     6\n",
       "Koda        6\n",
       "Name: name, dtype: int64"
      ]
     },
     "execution_count": 414,
     "metadata": {},
     "output_type": "execute_result"
    }
   ],
   "source": [
    "# getting the most popular dog name\n",
    "pop_dog_name = twitter_master_df.name.value_counts()[:20]\n",
    "pop_dog_name"
   ]
  },
  {
   "cell_type": "code",
   "execution_count": 415,
   "id": "312f806f",
   "metadata": {},
   "outputs": [
    {
     "data": {
      "text/html": [
       "<div>\n",
       "<style scoped>\n",
       "    .dataframe tbody tr th:only-of-type {\n",
       "        vertical-align: middle;\n",
       "    }\n",
       "\n",
       "    .dataframe tbody tr th {\n",
       "        vertical-align: top;\n",
       "    }\n",
       "\n",
       "    .dataframe thead th {\n",
       "        text-align: right;\n",
       "    }\n",
       "</style>\n",
       "<table border=\"1\" class=\"dataframe\">\n",
       "  <thead>\n",
       "    <tr style=\"text-align: right;\">\n",
       "      <th></th>\n",
       "      <th>name</th>\n",
       "      <th>count</th>\n",
       "    </tr>\n",
       "  </thead>\n",
       "  <tbody>\n",
       "    <tr>\n",
       "      <th>0</th>\n",
       "      <td>Charlie</td>\n",
       "      <td>11</td>\n",
       "    </tr>\n",
       "    <tr>\n",
       "      <th>1</th>\n",
       "      <td>Cooper</td>\n",
       "      <td>10</td>\n",
       "    </tr>\n",
       "    <tr>\n",
       "      <th>2</th>\n",
       "      <td>Lucy</td>\n",
       "      <td>10</td>\n",
       "    </tr>\n",
       "    <tr>\n",
       "      <th>3</th>\n",
       "      <td>Tucker</td>\n",
       "      <td>10</td>\n",
       "    </tr>\n",
       "    <tr>\n",
       "      <th>4</th>\n",
       "      <td>Oliver</td>\n",
       "      <td>10</td>\n",
       "    </tr>\n",
       "    <tr>\n",
       "      <th>5</th>\n",
       "      <td>Penny</td>\n",
       "      <td>10</td>\n",
       "    </tr>\n",
       "    <tr>\n",
       "      <th>6</th>\n",
       "      <td>Sadie</td>\n",
       "      <td>8</td>\n",
       "    </tr>\n",
       "    <tr>\n",
       "      <th>7</th>\n",
       "      <td>Bo</td>\n",
       "      <td>8</td>\n",
       "    </tr>\n",
       "    <tr>\n",
       "      <th>8</th>\n",
       "      <td>Winston</td>\n",
       "      <td>8</td>\n",
       "    </tr>\n",
       "    <tr>\n",
       "      <th>9</th>\n",
       "      <td>Lola</td>\n",
       "      <td>8</td>\n",
       "    </tr>\n",
       "    <tr>\n",
       "      <th>10</th>\n",
       "      <td>Toby</td>\n",
       "      <td>7</td>\n",
       "    </tr>\n",
       "    <tr>\n",
       "      <th>11</th>\n",
       "      <td>Daisy</td>\n",
       "      <td>7</td>\n",
       "    </tr>\n",
       "    <tr>\n",
       "      <th>12</th>\n",
       "      <td>Jax</td>\n",
       "      <td>6</td>\n",
       "    </tr>\n",
       "    <tr>\n",
       "      <th>13</th>\n",
       "      <td>Dave</td>\n",
       "      <td>6</td>\n",
       "    </tr>\n",
       "    <tr>\n",
       "      <th>14</th>\n",
       "      <td>Scout</td>\n",
       "      <td>6</td>\n",
       "    </tr>\n",
       "    <tr>\n",
       "      <th>15</th>\n",
       "      <td>Bella</td>\n",
       "      <td>6</td>\n",
       "    </tr>\n",
       "    <tr>\n",
       "      <th>16</th>\n",
       "      <td>Milo</td>\n",
       "      <td>6</td>\n",
       "    </tr>\n",
       "    <tr>\n",
       "      <th>17</th>\n",
       "      <td>Bailey</td>\n",
       "      <td>6</td>\n",
       "    </tr>\n",
       "    <tr>\n",
       "      <th>18</th>\n",
       "      <td>Stanley</td>\n",
       "      <td>6</td>\n",
       "    </tr>\n",
       "    <tr>\n",
       "      <th>19</th>\n",
       "      <td>Koda</td>\n",
       "      <td>6</td>\n",
       "    </tr>\n",
       "  </tbody>\n",
       "</table>\n",
       "</div>"
      ],
      "text/plain": [
       "       name  count\n",
       "0   Charlie     11\n",
       "1    Cooper     10\n",
       "2      Lucy     10\n",
       "3    Tucker     10\n",
       "4    Oliver     10\n",
       "5     Penny     10\n",
       "6     Sadie      8\n",
       "7        Bo      8\n",
       "8   Winston      8\n",
       "9      Lola      8\n",
       "10     Toby      7\n",
       "11    Daisy      7\n",
       "12      Jax      6\n",
       "13     Dave      6\n",
       "14    Scout      6\n",
       "15    Bella      6\n",
       "16     Milo      6\n",
       "17   Bailey      6\n",
       "18  Stanley      6\n",
       "19     Koda      6"
      ]
     },
     "execution_count": 415,
     "metadata": {},
     "output_type": "execute_result"
    }
   ],
   "source": [
    "# creating a dataframe for the plot\n",
    "df = pd.DataFrame({\"name\": pop_dog_name.index, \"count\": pop_dog_name.values})\n",
    "df"
   ]
  },
  {
   "cell_type": "code",
   "execution_count": 416,
   "id": "b0524789",
   "metadata": {},
   "outputs": [
    {
     "data": {
      "text/plain": [
       "<Figure size 432x288 with 0 Axes>"
      ]
     },
     "metadata": {},
     "output_type": "display_data"
    },
    {
     "data": {
      "image/png": "[encoded data removed]",
      "text/plain": [
       "<Figure size 1152x576 with 1 Axes>"
      ]
     },
     "metadata": {
      "needs_background": "light"
     },
     "output_type": "display_data"
    }
   ],
   "source": [
    "# we call the custom_plot function to plot the graph\n",
    "custom_plot(df, \"count\", \"The most popular Dog names\", \"Dog Names\", \"The count of Dog Names\", xticks=\"name\", plot_type=\"bar\");"
   ]
  },
  {
   "cell_type": "markdown",
   "id": "b1ed7e62",
   "metadata": {},
   "source": [
    "It seems the most popular Dog name is `Charlie`"
   ]
  },
  {
   "cell_type": "markdown",
   "id": "2e65f51a",
   "metadata": {},
   "source": [
    "#### #3 What is most source of tweets?"
   ]
  },
  {
   "cell_type": "code",
   "execution_count": 417,
   "id": "ba86d87d",
   "metadata": {
    "scrolled": true
   },
   "outputs": [
    {
     "data": {
      "text/plain": [
       "Twitter for iPhone    2009\n",
       "Twitter Web Client      30\n",
       "TweetDeck               11\n",
       "Name: source, dtype: int64"
      ]
     },
     "execution_count": 417,
     "metadata": {},
     "output_type": "execute_result"
    }
   ],
   "source": [
    "# getting the count of source of tweets\n",
    "source_count = twitter_master_df.source.value_counts()\n",
    "source_count"
   ]
  },
  {
   "cell_type": "code",
   "execution_count": 418,
   "id": "a4d51dbf",
   "metadata": {},
   "outputs": [
    {
     "data": {
      "text/html": [
       "<div>\n",
       "<style scoped>\n",
       "    .dataframe tbody tr th:only-of-type {\n",
       "        vertical-align: middle;\n",
       "    }\n",
       "\n",
       "    .dataframe tbody tr th {\n",
       "        vertical-align: top;\n",
       "    }\n",
       "\n",
       "    .dataframe thead th {\n",
       "        text-align: right;\n",
       "    }\n",
       "</style>\n",
       "<table border=\"1\" class=\"dataframe\">\n",
       "  <thead>\n",
       "    <tr style=\"text-align: right;\">\n",
       "      <th></th>\n",
       "      <th>source</th>\n",
       "      <th>count</th>\n",
       "    </tr>\n",
       "  </thead>\n",
       "  <tbody>\n",
       "    <tr>\n",
       "      <th>0</th>\n",
       "      <td>Twitter for iPhone</td>\n",
       "      <td>2009</td>\n",
       "    </tr>\n",
       "    <tr>\n",
       "      <th>1</th>\n",
       "      <td>Twitter Web Client</td>\n",
       "      <td>30</td>\n",
       "    </tr>\n",
       "    <tr>\n",
       "      <th>2</th>\n",
       "      <td>TweetDeck</td>\n",
       "      <td>11</td>\n",
       "    </tr>\n",
       "  </tbody>\n",
       "</table>\n",
       "</div>"
      ],
      "text/plain": [
       "               source  count\n",
       "0  Twitter for iPhone   2009\n",
       "1  Twitter Web Client     30\n",
       "2           TweetDeck     11"
      ]
     },
     "execution_count": 418,
     "metadata": {},
     "output_type": "execute_result"
    }
   ],
   "source": [
    "# creating a dataframe for the plot\n",
    "df = pd.DataFrame({\"source\": source_count.index, \"count\": source_count.values})\n",
    "df"
   ]
  },
  {
   "cell_type": "code",
   "execution_count": 419,
   "id": "8d9f0705",
   "metadata": {},
   "outputs": [
    {
     "data": {
      "text/plain": [
       "<Figure size 432x288 with 0 Axes>"
      ]
     },
     "metadata": {},
     "output_type": "display_data"
    },
    {
     "data": {
      "image/png": "[encoded data removed]",
      "text/plain": [
       "<Figure size 1152x576 with 1 Axes>"
      ]
     },
     "metadata": {
      "needs_background": "light"
     },
     "output_type": "display_data"
    }
   ],
   "source": [
    "# we call the custom_plot function to plot the graph\n",
    "custom_plot(df, \"count\", \"The most Source of Tweets\", \"Tweet Source\", \"The count of Tweet Source\", xticks=\"source\", plot_type=\"bar\");"
   ]
  },
  {
   "cell_type": "markdown",
   "id": "046e8fc8",
   "metadata": {},
   "source": [
    "From the visualization it points to the `Twitter for iphone` as the overwhelming source of tweets"
   ]
  },
  {
   "cell_type": "markdown",
   "id": "af8b13a9",
   "metadata": {},
   "source": [
    "#### #4 What is the most occurring dog stage"
   ]
  },
  {
   "cell_type": "code",
   "execution_count": 420,
   "id": "3ee7a3d8",
   "metadata": {},
   "outputs": [
    {
     "data": {
      "text/plain": [
       "pupper     205\n",
       "doggo       68\n",
       "puppo       23\n",
       "floofer      3\n",
       "Name: dog_class, dtype: int64"
      ]
     },
     "execution_count": 420,
     "metadata": {},
     "output_type": "execute_result"
    }
   ],
   "source": [
    "dog_class_count = twitter_master_df.dog_class.value_counts()\n",
    "dog_class_count"
   ]
  },
  {
   "cell_type": "code",
   "execution_count": 421,
   "id": "98a4a5d5",
   "metadata": {},
   "outputs": [
    {
     "data": {
      "text/html": [
       "<div>\n",
       "<style scoped>\n",
       "    .dataframe tbody tr th:only-of-type {\n",
       "        vertical-align: middle;\n",
       "    }\n",
       "\n",
       "    .dataframe tbody tr th {\n",
       "        vertical-align: top;\n",
       "    }\n",
       "\n",
       "    .dataframe thead th {\n",
       "        text-align: right;\n",
       "    }\n",
       "</style>\n",
       "<table border=\"1\" class=\"dataframe\">\n",
       "  <thead>\n",
       "    <tr style=\"text-align: right;\">\n",
       "      <th></th>\n",
       "      <th>dog_class</th>\n",
       "      <th>count</th>\n",
       "    </tr>\n",
       "  </thead>\n",
       "  <tbody>\n",
       "    <tr>\n",
       "      <th>0</th>\n",
       "      <td>pupper</td>\n",
       "      <td>205</td>\n",
       "    </tr>\n",
       "    <tr>\n",
       "      <th>1</th>\n",
       "      <td>doggo</td>\n",
       "      <td>68</td>\n",
       "    </tr>\n",
       "    <tr>\n",
       "      <th>2</th>\n",
       "      <td>puppo</td>\n",
       "      <td>23</td>\n",
       "    </tr>\n",
       "    <tr>\n",
       "      <th>3</th>\n",
       "      <td>floofer</td>\n",
       "      <td>3</td>\n",
       "    </tr>\n",
       "  </tbody>\n",
       "</table>\n",
       "</div>"
      ],
      "text/plain": [
       "  dog_class  count\n",
       "0    pupper    205\n",
       "1     doggo     68\n",
       "2     puppo     23\n",
       "3   floofer      3"
      ]
     },
     "execution_count": 421,
     "metadata": {},
     "output_type": "execute_result"
    }
   ],
   "source": [
    "# creating a dataframe for the plot\n",
    "df = pd.DataFrame({\"dog_class\": dog_class_count.index, \"count\": dog_class_count.values})\n",
    "df"
   ]
  },
  {
   "cell_type": "code",
   "execution_count": 422,
   "id": "cf2a7518",
   "metadata": {},
   "outputs": [
    {
     "data": {
      "text/plain": [
       "<Figure size 432x288 with 0 Axes>"
      ]
     },
     "metadata": {},
     "output_type": "display_data"
    },
    {
     "data": {
      "image/png": "[encoded data removed]",
      "text/plain": [
       "<Figure size 1152x576 with 1 Axes>"
      ]
     },
     "metadata": {
      "needs_background": "light"
     },
     "output_type": "display_data"
    }
   ],
   "source": [
    "# we call the custom_plot function to plot the graph\n",
    "custom_plot(df, \"count\", \"The most occurring Dog class\", \"Dog Class\", \"The count of Dog Class\", xticks=\"dog_class\", plot_type=\"bar\");"
   ]
  },
  {
   "cell_type": "markdown",
   "id": "89f093ad",
   "metadata": {},
   "source": [
    "The most occurring Dog class is `pupper`"
   ]
  },
  {
   "cell_type": "markdown",
   "id": "7a1db282",
   "metadata": {},
   "source": [
    "## Conclusions\n",
    "\n",
    "> In this project data was collected from the WeRateDogs Twitter account.  \n",
    "\n",
    "> The three datasets that were gathered were assessed, cleaned, and finally merged into one master dataset and stored as a file. \n",
    "\n",
    "> Using this cleaned dataset now, some insights were drawn form it. these are some of the insights:\n",
    "> I discovered that `Chow` dog breed has the highest rating followed by Golden and Labrador Retrievers .\n",
    "> I also discovered that Iphones are overwhelming the device use to send most of the tweets.\n",
    "> The dog name that has the most popularity is `Charlie`\n",
    "> And finally, the dog class that is most represented is `pupper`"
   ]
  },
  {
   "cell_type": "code",
   "execution_count": 423,
   "id": "45b3757e",
   "metadata": {
    "scrolled": true
   },
   "outputs": [
    {
     "data": {
      "text/plain": [
       "'This is Roscoe. Another pupper fallen victim to spontaneous tongue ejections. Get the BlepiPen immediate. 12/10 deep breaths Roscoe'"
      ]
     },
     "execution_count": 423,
     "metadata": {},
     "output_type": "execute_result"
    }
   ],
   "source": [
    "twitter_master_df[twitter_master_df.dog_class == \"pupper\"].text[28]"
   ]
  },
  {
   "cell_type": "code",
   "execution_count": 424,
   "id": "a62010c5",
   "metadata": {},
   "outputs": [
    {
     "data": {
      "text/plain": [
       "0       Twitter for iPhone\n",
       "1       Twitter for iPhone\n",
       "2       Twitter for iPhone\n",
       "3       Twitter for iPhone\n",
       "4       Twitter for iPhone\n",
       "               ...        \n",
       "2045    Twitter for iPhone\n",
       "2046    Twitter for iPhone\n",
       "2047    Twitter for iPhone\n",
       "2048    Twitter for iPhone\n",
       "2049    Twitter for iPhone\n",
       "Name: source, Length: 2050, dtype: object"
      ]
     },
     "execution_count": 424,
     "metadata": {},
     "output_type": "execute_result"
    }
   ],
   "source": [
    "twitter_master_df.source"
   ]
  }
 ],
 "metadata": {
  "kernelspec": {
   "display_name": "Python 3 (ipykernel)",
   "language": "python",
   "name": "python3"
  },
  "language_info": {
   "codemirror_mode": {
    "name": "ipython",
    "version": 3
   },
   "file_extension": ".py",
   "mimetype": "text/x-python",
   "name": "python",
   "nbconvert_exporter": "python",
   "pygments_lexer": "ipython3",
   "version": "3.9.12"
  }
 },
 "nbformat": 4,
 "nbformat_minor": 5
}
